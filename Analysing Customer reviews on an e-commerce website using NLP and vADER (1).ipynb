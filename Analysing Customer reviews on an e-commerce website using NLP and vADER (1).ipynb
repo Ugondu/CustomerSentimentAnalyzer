{
 "cells": [
  {
   "cell_type": "markdown",
   "id": "3da5ab7f-31b8-451b-b9d0-c2545c956e00",
   "metadata": {},
   "source": [
    "<div style= \"background-color: #913831; padding: 10px\">\n",
    "    <h2 style=\"color: white;\">SENTIMENT ANALYSER USING NLP & vADER MODELS </h2>\n",
    "    <p style=\"color: white;\"> Analysing Ali Express customer reviews on electrical products</p>\n",
    "</div>"
   ]
  },
  {
   "cell_type": "markdown",
   "id": "145988c2-5c7f-4aa3-ae8b-4c8937a42725",
   "metadata": {},
   "source": [
    "### The objective of this project is to;\n",
    "* To utilise an end to end solution that can extract, preprocess, analyse, and visualise customer reviews\n",
    "* To build and train models that are capable of analysing these customers reviews\n",
    "* To successfully deploy the best performing model for the product reviews\n",
    "\n",
    "### To achieve the objectives:\n",
    "* Scrap the product page of the e-commerce website\n",
    "* Carry out text preprocessing and EDA on the dataset\n",
    "* Carry out feature engineering on the dataset and visualise the frequency of words used\n",
    "* Build and train the models to test our dataset\n",
    "* Save the best performing models for deployment\n",
    "* Deploy our model using Flask app on the local machine"
   ]
  },
  {
   "cell_type": "markdown",
   "id": "c372a4dd-71c3-437f-a58b-538d0dc9e0b9",
   "metadata": {},
   "source": [
    "## Phase One\n",
    "* Importation of Libraries and Modules\n",
    "* Data Overview and EDA\n",
    "* Feature engineering "
   ]
  },
  {
   "cell_type": "code",
   "execution_count": 1,
   "id": "9f9f5594-3035-48cf-86ea-b0356f0eae68",
   "metadata": {},
   "outputs": [
    {
     "name": "stdout",
     "output_type": "stream",
     "text": [
      "Requirement already satisfied: nltk in c:\\users\\adachukwu\\anaconda3\\lib\\site-packages (3.8.1)\n",
      "Requirement already satisfied: click in c:\\users\\adachukwu\\anaconda3\\lib\\site-packages (from nltk) (8.1.7)\n",
      "Requirement already satisfied: joblib in c:\\users\\adachukwu\\anaconda3\\lib\\site-packages (from nltk) (1.2.0)\n",
      "Requirement already satisfied: regex>=2021.8.3 in c:\\users\\adachukwu\\anaconda3\\lib\\site-packages (from nltk) (2023.10.3)\n",
      "Requirement already satisfied: tqdm in c:\\users\\adachukwu\\anaconda3\\lib\\site-packages (from nltk) (4.65.0)\n",
      "Requirement already satisfied: colorama in c:\\users\\adachukwu\\anaconda3\\lib\\site-packages (from click->nltk) (0.4.6)\n",
      "Requirement already satisfied: textblob in c:\\users\\adachukwu\\anaconda3\\lib\\site-packages (0.18.0.post0)\n",
      "Requirement already satisfied: nltk>=3.8 in c:\\users\\adachukwu\\anaconda3\\lib\\site-packages (from textblob) (3.8.1)\n",
      "Requirement already satisfied: click in c:\\users\\adachukwu\\anaconda3\\lib\\site-packages (from nltk>=3.8->textblob) (8.1.7)\n",
      "Requirement already satisfied: joblib in c:\\users\\adachukwu\\anaconda3\\lib\\site-packages (from nltk>=3.8->textblob) (1.2.0)\n",
      "Requirement already satisfied: regex>=2021.8.3 in c:\\users\\adachukwu\\anaconda3\\lib\\site-packages (from nltk>=3.8->textblob) (2023.10.3)\n",
      "Requirement already satisfied: tqdm in c:\\users\\adachukwu\\anaconda3\\lib\\site-packages (from nltk>=3.8->textblob) (4.65.0)\n",
      "Requirement already satisfied: colorama in c:\\users\\adachukwu\\anaconda3\\lib\\site-packages (from click->nltk>=3.8->textblob) (0.4.6)\n",
      "Requirement already satisfied: wordcloud in c:\\users\\adachukwu\\anaconda3\\lib\\site-packages (1.9.3)\n",
      "Requirement already satisfied: numpy>=1.6.1 in c:\\users\\adachukwu\\anaconda3\\lib\\site-packages (from wordcloud) (1.26.4)\n",
      "Requirement already satisfied: pillow in c:\\users\\adachukwu\\anaconda3\\lib\\site-packages (from wordcloud) (10.2.0)\n",
      "Requirement already satisfied: matplotlib in c:\\users\\adachukwu\\anaconda3\\lib\\site-packages (from wordcloud) (3.8.0)\n",
      "Requirement already satisfied: contourpy>=1.0.1 in c:\\users\\adachukwu\\anaconda3\\lib\\site-packages (from matplotlib->wordcloud) (1.2.0)\n",
      "Requirement already satisfied: cycler>=0.10 in c:\\users\\adachukwu\\anaconda3\\lib\\site-packages (from matplotlib->wordcloud) (0.11.0)\n",
      "Requirement already satisfied: fonttools>=4.22.0 in c:\\users\\adachukwu\\anaconda3\\lib\\site-packages (from matplotlib->wordcloud) (4.25.0)\n",
      "Requirement already satisfied: kiwisolver>=1.0.1 in c:\\users\\adachukwu\\anaconda3\\lib\\site-packages (from matplotlib->wordcloud) (1.4.4)\n",
      "Requirement already satisfied: packaging>=20.0 in c:\\users\\adachukwu\\anaconda3\\lib\\site-packages (from matplotlib->wordcloud) (23.1)\n",
      "Requirement already satisfied: pyparsing>=2.3.1 in c:\\users\\adachukwu\\anaconda3\\lib\\site-packages (from matplotlib->wordcloud) (3.0.9)\n",
      "Requirement already satisfied: python-dateutil>=2.7 in c:\\users\\adachukwu\\anaconda3\\lib\\site-packages (from matplotlib->wordcloud) (2.8.2)\n",
      "Requirement already satisfied: six>=1.5 in c:\\users\\adachukwu\\anaconda3\\lib\\site-packages (from python-dateutil>=2.7->matplotlib->wordcloud) (1.16.0)\n"
     ]
    }
   ],
   "source": [
    "!pip install nltk\n",
    "!pip install textblob\n",
    "!pip install wordcloud"
   ]
  },
  {
   "cell_type": "markdown",
   "id": "a3ea1673-9201-40de-9c73-617eecb5d78a",
   "metadata": {},
   "source": [
    "## Explratory Data Analysis and Features Engineering"
   ]
  },
  {
   "cell_type": "code",
   "execution_count": 3,
   "id": "cee41324-a399-4af3-bdc4-d53c385fef86",
   "metadata": {},
   "outputs": [],
   "source": [
    "# Import required libraries\n",
    "\n",
    "from warnings import filterwarnings\n",
    "import matplotlib.pyplot as plt\n",
    "import pandas as pd\n",
    "import numpy as np\n",
    "import seaborn as sns\n",
    "from collections import Counter\n"
   ]
  },
  {
   "cell_type": "code",
   "execution_count": 4,
   "id": "755ae154-4315-466c-9869-3300502cee74",
   "metadata": {},
   "outputs": [],
   "source": [
    "# Import the data set using pd.read() function\n",
    "\n",
    "rd = pd.read_csv(r\"C:\\Users\\ADACHUKWU\\Downloads\\data.csv\")"
   ]
  },
  {
   "cell_type": "code",
   "execution_count": 5,
   "id": "7dff16b6-a983-4de1-be93-71bda7693e36",
   "metadata": {},
   "outputs": [
    {
     "data": {
      "text/html": [
       "<div>\n",
       "<style scoped>\n",
       "    .dataframe tbody tr th:only-of-type {\n",
       "        vertical-align: middle;\n",
       "    }\n",
       "\n",
       "    .dataframe tbody tr th {\n",
       "        vertical-align: top;\n",
       "    }\n",
       "\n",
       "    .dataframe thead th {\n",
       "        text-align: right;\n",
       "    }\n",
       "</style>\n",
       "<table border=\"1\" class=\"dataframe\">\n",
       "  <thead>\n",
       "    <tr style=\"text-align: right;\">\n",
       "      <th></th>\n",
       "      <th>Unnamed: 0</th>\n",
       "      <th>Username</th>\n",
       "      <th>Location</th>\n",
       "      <th>Total Review</th>\n",
       "      <th>Date of Experience</th>\n",
       "      <th>Content</th>\n",
       "      <th>Rating</th>\n",
       "    </tr>\n",
       "  </thead>\n",
       "  <tbody>\n",
       "    <tr>\n",
       "      <th>0</th>\n",
       "      <td>0</td>\n",
       "      <td>Christopher Smith</td>\n",
       "      <td>GB</td>\n",
       "      <td>3reviews</td>\n",
       "      <td>January 30, 2024</td>\n",
       "      <td>I have been shopping with AliExpress for some ...</td>\n",
       "      <td>4</td>\n",
       "    </tr>\n",
       "    <tr>\n",
       "      <th>1</th>\n",
       "      <td>1</td>\n",
       "      <td>blarp.tha.alien</td>\n",
       "      <td>AU</td>\n",
       "      <td>1review</td>\n",
       "      <td>May 16, 2024</td>\n",
       "      <td>AliExpress is Legit a great place to find amaz...</td>\n",
       "      <td>5</td>\n",
       "    </tr>\n",
       "    <tr>\n",
       "      <th>2</th>\n",
       "      <td>2</td>\n",
       "      <td>Margarita Chavez Villalobos</td>\n",
       "      <td>US</td>\n",
       "      <td>3reviews</td>\n",
       "      <td>May 13, 2024</td>\n",
       "      <td>AliExpress does pretty good on delivering SMAL...</td>\n",
       "      <td>3</td>\n",
       "    </tr>\n",
       "    <tr>\n",
       "      <th>3</th>\n",
       "      <td>3</td>\n",
       "      <td>Mario Alzate</td>\n",
       "      <td>US</td>\n",
       "      <td>1review</td>\n",
       "      <td>May 18, 2024</td>\n",
       "      <td>Well, if you educate yourself just a little on...</td>\n",
       "      <td>5</td>\n",
       "    </tr>\n",
       "    <tr>\n",
       "      <th>4</th>\n",
       "      <td>4</td>\n",
       "      <td>AE user</td>\n",
       "      <td>US</td>\n",
       "      <td>1review</td>\n",
       "      <td>May 04, 2024</td>\n",
       "      <td>Found some nice deals, but also ran into a sca...</td>\n",
       "      <td>5</td>\n",
       "    </tr>\n",
       "  </tbody>\n",
       "</table>\n",
       "</div>"
      ],
      "text/plain": [
       "   Unnamed: 0                     Username Location Total Review  \\\n",
       "0           0            Christopher Smith       GB     3reviews   \n",
       "1           1              blarp.tha.alien       AU      1review   \n",
       "2           2  Margarita Chavez Villalobos       US     3reviews   \n",
       "3           3                 Mario Alzate       US      1review   \n",
       "4           4                      AE user       US      1review   \n",
       "\n",
       "  Date of Experience                                            Content  \\\n",
       "0   January 30, 2024  I have been shopping with AliExpress for some ...   \n",
       "1       May 16, 2024  AliExpress is Legit a great place to find amaz...   \n",
       "2       May 13, 2024  AliExpress does pretty good on delivering SMAL...   \n",
       "3       May 18, 2024  Well, if you educate yourself just a little on...   \n",
       "4       May 04, 2024  Found some nice deals, but also ran into a sca...   \n",
       "\n",
       "   Rating  \n",
       "0       4  \n",
       "1       5  \n",
       "2       3  \n",
       "3       5  \n",
       "4       5  "
      ]
     },
     "execution_count": 5,
     "metadata": {},
     "output_type": "execute_result"
    }
   ],
   "source": [
    "rd.head(5)"
   ]
  },
  {
   "cell_type": "code",
   "execution_count": 5,
   "id": "3cc570f0-40ea-4c1d-8511-2699b368b8dd",
   "metadata": {},
   "outputs": [
    {
     "name": "stdout",
     "output_type": "stream",
     "text": [
      "<class 'pandas.core.frame.DataFrame'>\n",
      "RangeIndex: 46100 entries, 0 to 46099\n",
      "Data columns (total 7 columns):\n",
      " #   Column              Non-Null Count  Dtype \n",
      "---  ------              --------------  ----- \n",
      " 0   Unnamed: 0          46100 non-null  int64 \n",
      " 1   Username            46096 non-null  object\n",
      " 2   Location            46088 non-null  object\n",
      " 3   Total Review        46100 non-null  object\n",
      " 4   Date of Experience  46100 non-null  object\n",
      " 5   Content             36717 non-null  object\n",
      " 6   Rating              46100 non-null  int64 \n",
      "dtypes: int64(2), object(5)\n",
      "memory usage: 2.5+ MB\n"
     ]
    }
   ],
   "source": [
    "# Ascertain the data types\n",
    "rd.info()"
   ]
  },
  {
   "cell_type": "code",
   "execution_count": 6,
   "id": "e7d6310f-58eb-4682-8120-e63c56d3db19",
   "metadata": {},
   "outputs": [
    {
     "data": {
      "text/plain": [
       "(46100, 7)"
      ]
     },
     "execution_count": 6,
     "metadata": {},
     "output_type": "execute_result"
    }
   ],
   "source": [
    "# Check the number of rows, cols\n",
    "rd.shape"
   ]
  },
  {
   "cell_type": "code",
   "execution_count": 7,
   "id": "e7120b16-6864-4d74-a54e-98cf8927f5c6",
   "metadata": {},
   "outputs": [
    {
     "data": {
      "text/plain": [
       "Unnamed: 0               0\n",
       "Username                 4\n",
       "Location                12\n",
       "Total Review             0\n",
       "Date of Experience       0\n",
       "Content               9383\n",
       "Rating                   0\n",
       "dtype: int64"
      ]
     },
     "execution_count": 7,
     "metadata": {},
     "output_type": "execute_result"
    }
   ],
   "source": [
    "# Missing values and dealing with them\n",
    "rd.isna().sum()"
   ]
  },
  {
   "cell_type": "code",
   "execution_count": 8,
   "id": "f519fee8-4e8c-4ea6-8b52-e7a6661f214b",
   "metadata": {},
   "outputs": [],
   "source": [
    "rd.dropna(inplace=True)"
   ]
  },
  {
   "cell_type": "code",
   "execution_count": 9,
   "id": "f79eb95e-4c3c-4d71-95c8-1b8da2451549",
   "metadata": {},
   "outputs": [
    {
     "data": {
      "text/plain": [
       "0"
      ]
     },
     "execution_count": 9,
     "metadata": {},
     "output_type": "execute_result"
    }
   ],
   "source": [
    "# Check for duplicates in the dataset\n",
    "rd.duplicated().sum()"
   ]
  },
  {
   "cell_type": "code",
   "execution_count": 10,
   "id": "276a7727-8a37-4e33-b88b-4b7316e0e106",
   "metadata": {},
   "outputs": [],
   "source": [
    "# Convert the date to pandas datetime using to_datetime() function\n",
    "rd[\"Date of Experience\"] = pd.to_datetime(rd[\"Date of Experience\"])"
   ]
  },
  {
   "cell_type": "code",
   "execution_count": 11,
   "id": "2770b47b-b305-4735-9f65-75e2d968d72d",
   "metadata": {},
   "outputs": [
    {
     "data": {
      "text/html": [
       "<div>\n",
       "<style scoped>\n",
       "    .dataframe tbody tr th:only-of-type {\n",
       "        vertical-align: middle;\n",
       "    }\n",
       "\n",
       "    .dataframe tbody tr th {\n",
       "        vertical-align: top;\n",
       "    }\n",
       "\n",
       "    .dataframe thead th {\n",
       "        text-align: right;\n",
       "    }\n",
       "</style>\n",
       "<table border=\"1\" class=\"dataframe\">\n",
       "  <thead>\n",
       "    <tr style=\"text-align: right;\">\n",
       "      <th></th>\n",
       "      <th>Unnamed: 0</th>\n",
       "      <th>Username</th>\n",
       "      <th>Location</th>\n",
       "      <th>Total Review</th>\n",
       "      <th>Date of Experience</th>\n",
       "      <th>Content</th>\n",
       "      <th>Rating</th>\n",
       "    </tr>\n",
       "  </thead>\n",
       "  <tbody>\n",
       "    <tr>\n",
       "      <th>0</th>\n",
       "      <td>0</td>\n",
       "      <td>Christopher Smith</td>\n",
       "      <td>GB</td>\n",
       "      <td>3reviews</td>\n",
       "      <td>2024-01-30</td>\n",
       "      <td>I have been shopping with AliExpress for some ...</td>\n",
       "      <td>4</td>\n",
       "    </tr>\n",
       "    <tr>\n",
       "      <th>1</th>\n",
       "      <td>1</td>\n",
       "      <td>blarp.tha.alien</td>\n",
       "      <td>AU</td>\n",
       "      <td>1review</td>\n",
       "      <td>2024-05-16</td>\n",
       "      <td>AliExpress is Legit a great place to find amaz...</td>\n",
       "      <td>5</td>\n",
       "    </tr>\n",
       "    <tr>\n",
       "      <th>2</th>\n",
       "      <td>2</td>\n",
       "      <td>Margarita Chavez Villalobos</td>\n",
       "      <td>US</td>\n",
       "      <td>3reviews</td>\n",
       "      <td>2024-05-13</td>\n",
       "      <td>AliExpress does pretty good on delivering SMAL...</td>\n",
       "      <td>3</td>\n",
       "    </tr>\n",
       "    <tr>\n",
       "      <th>3</th>\n",
       "      <td>3</td>\n",
       "      <td>Mario Alzate</td>\n",
       "      <td>US</td>\n",
       "      <td>1review</td>\n",
       "      <td>2024-05-18</td>\n",
       "      <td>Well, if you educate yourself just a little on...</td>\n",
       "      <td>5</td>\n",
       "    </tr>\n",
       "    <tr>\n",
       "      <th>4</th>\n",
       "      <td>4</td>\n",
       "      <td>AE user</td>\n",
       "      <td>US</td>\n",
       "      <td>1review</td>\n",
       "      <td>2024-05-04</td>\n",
       "      <td>Found some nice deals, but also ran into a sca...</td>\n",
       "      <td>5</td>\n",
       "    </tr>\n",
       "  </tbody>\n",
       "</table>\n",
       "</div>"
      ],
      "text/plain": [
       "   Unnamed: 0                     Username Location Total Review  \\\n",
       "0           0            Christopher Smith       GB     3reviews   \n",
       "1           1              blarp.tha.alien       AU      1review   \n",
       "2           2  Margarita Chavez Villalobos       US     3reviews   \n",
       "3           3                 Mario Alzate       US      1review   \n",
       "4           4                      AE user       US      1review   \n",
       "\n",
       "  Date of Experience                                            Content  \\\n",
       "0         2024-01-30  I have been shopping with AliExpress for some ...   \n",
       "1         2024-05-16  AliExpress is Legit a great place to find amaz...   \n",
       "2         2024-05-13  AliExpress does pretty good on delivering SMAL...   \n",
       "3         2024-05-18  Well, if you educate yourself just a little on...   \n",
       "4         2024-05-04  Found some nice deals, but also ran into a sca...   \n",
       "\n",
       "   Rating  \n",
       "0       4  \n",
       "1       5  \n",
       "2       3  \n",
       "3       5  \n",
       "4       5  "
      ]
     },
     "execution_count": 11,
     "metadata": {},
     "output_type": "execute_result"
    }
   ],
   "source": [
    "rd.head(5)"
   ]
  },
  {
   "cell_type": "code",
   "execution_count": 12,
   "id": "55f1a12d-711b-4ece-b7bc-57a1937101ad",
   "metadata": {},
   "outputs": [],
   "source": [
    "# Feature engineering a new feature to replace the ratings as either Positive or negaitive\n",
    "rd[\"Sentiment\"] = rd[\"Rating\"].apply (lambda x: \"Negative(<3)\" if x<3 else (\"Neutral(3)\" if x==3 else \"Positive(>3)\"))"
   ]
  },
  {
   "cell_type": "markdown",
   "id": "668bfce4-b0e6-4d87-bb60-49868f9c3b04",
   "metadata": {},
   "source": [
    "### Customers ratings (1-5) are converted to either negative, positive, and neutral depending on how many stars each customer gave the company. Less than 3 stars is negative, 3 is neutral while greater than 3 is a positive review."
   ]
  },
  {
   "cell_type": "code",
   "execution_count": 13,
   "id": "60106244-4af7-4697-b2a4-841a9d4abdb0",
   "metadata": {},
   "outputs": [
    {
     "data": {
      "text/html": [
       "<div>\n",
       "<style scoped>\n",
       "    .dataframe tbody tr th:only-of-type {\n",
       "        vertical-align: middle;\n",
       "    }\n",
       "\n",
       "    .dataframe tbody tr th {\n",
       "        vertical-align: top;\n",
       "    }\n",
       "\n",
       "    .dataframe thead th {\n",
       "        text-align: right;\n",
       "    }\n",
       "</style>\n",
       "<table border=\"1\" class=\"dataframe\">\n",
       "  <thead>\n",
       "    <tr style=\"text-align: right;\">\n",
       "      <th></th>\n",
       "      <th>Unnamed: 0</th>\n",
       "      <th>Username</th>\n",
       "      <th>Location</th>\n",
       "      <th>Total Review</th>\n",
       "      <th>Date of Experience</th>\n",
       "      <th>Content</th>\n",
       "      <th>Rating</th>\n",
       "      <th>Sentiment</th>\n",
       "    </tr>\n",
       "  </thead>\n",
       "  <tbody>\n",
       "    <tr>\n",
       "      <th>0</th>\n",
       "      <td>0</td>\n",
       "      <td>Christopher Smith</td>\n",
       "      <td>GB</td>\n",
       "      <td>3reviews</td>\n",
       "      <td>2024-01-30</td>\n",
       "      <td>I have been shopping with AliExpress for some ...</td>\n",
       "      <td>4</td>\n",
       "      <td>Positive(&gt;3)</td>\n",
       "    </tr>\n",
       "    <tr>\n",
       "      <th>1</th>\n",
       "      <td>1</td>\n",
       "      <td>blarp.tha.alien</td>\n",
       "      <td>AU</td>\n",
       "      <td>1review</td>\n",
       "      <td>2024-05-16</td>\n",
       "      <td>AliExpress is Legit a great place to find amaz...</td>\n",
       "      <td>5</td>\n",
       "      <td>Positive(&gt;3)</td>\n",
       "    </tr>\n",
       "    <tr>\n",
       "      <th>2</th>\n",
       "      <td>2</td>\n",
       "      <td>Margarita Chavez Villalobos</td>\n",
       "      <td>US</td>\n",
       "      <td>3reviews</td>\n",
       "      <td>2024-05-13</td>\n",
       "      <td>AliExpress does pretty good on delivering SMAL...</td>\n",
       "      <td>3</td>\n",
       "      <td>Neutral(3)</td>\n",
       "    </tr>\n",
       "    <tr>\n",
       "      <th>3</th>\n",
       "      <td>3</td>\n",
       "      <td>Mario Alzate</td>\n",
       "      <td>US</td>\n",
       "      <td>1review</td>\n",
       "      <td>2024-05-18</td>\n",
       "      <td>Well, if you educate yourself just a little on...</td>\n",
       "      <td>5</td>\n",
       "      <td>Positive(&gt;3)</td>\n",
       "    </tr>\n",
       "    <tr>\n",
       "      <th>4</th>\n",
       "      <td>4</td>\n",
       "      <td>AE user</td>\n",
       "      <td>US</td>\n",
       "      <td>1review</td>\n",
       "      <td>2024-05-04</td>\n",
       "      <td>Found some nice deals, but also ran into a sca...</td>\n",
       "      <td>5</td>\n",
       "      <td>Positive(&gt;3)</td>\n",
       "    </tr>\n",
       "  </tbody>\n",
       "</table>\n",
       "</div>"
      ],
      "text/plain": [
       "   Unnamed: 0                     Username Location Total Review  \\\n",
       "0           0            Christopher Smith       GB     3reviews   \n",
       "1           1              blarp.tha.alien       AU      1review   \n",
       "2           2  Margarita Chavez Villalobos       US     3reviews   \n",
       "3           3                 Mario Alzate       US      1review   \n",
       "4           4                      AE user       US      1review   \n",
       "\n",
       "  Date of Experience                                            Content  \\\n",
       "0         2024-01-30  I have been shopping with AliExpress for some ...   \n",
       "1         2024-05-16  AliExpress is Legit a great place to find amaz...   \n",
       "2         2024-05-13  AliExpress does pretty good on delivering SMAL...   \n",
       "3         2024-05-18  Well, if you educate yourself just a little on...   \n",
       "4         2024-05-04  Found some nice deals, but also ran into a sca...   \n",
       "\n",
       "   Rating     Sentiment  \n",
       "0       4  Positive(>3)  \n",
       "1       5  Positive(>3)  \n",
       "2       3    Neutral(3)  \n",
       "3       5  Positive(>3)  \n",
       "4       5  Positive(>3)  "
      ]
     },
     "execution_count": 13,
     "metadata": {},
     "output_type": "execute_result"
    }
   ],
   "source": [
    "rd.head(5)"
   ]
  },
  {
   "cell_type": "code",
   "execution_count": 14,
   "id": "3fc658a9-3cb5-4ffc-9df7-49226f3fad42",
   "metadata": {},
   "outputs": [
    {
     "data": {
      "image/png": "[encoded data removed]",
      "text/plain": [
       "<Figure size 1000x600 with 1 Axes>"
      ]
     },
     "metadata": {},
     "output_type": "display_data"
    }
   ],
   "source": [
    "# Visualise the frequency of ratings in the dataset\n",
    "plt.figure(figsize=(10,6))\n",
    "rd[\"Rating\"].value_counts().plot.bar(color=\"Blue\")\n",
    "plt.title(\"Distribution of Rating\", fontsize=20)\n",
    "plt.xlabel(\"Rating\", fontsize=15)\n",
    "plt.ylabel(\"Count\", fontsize=15)\n",
    "plt.xticks(rotation=360)\n",
    "plt.show()"
   ]
  },
  {
   "cell_type": "code",
   "execution_count": 15,
   "id": "8202fc7d-9419-4abb-9b6e-5dd16f7439c4",
   "metadata": {},
   "outputs": [
    {
     "data": {
      "image/png": "[encoded data removed]",
      "text/plain": [
       "<Figure size 1000x600 with 1 Axes>"
      ]
     },
     "metadata": {},
     "output_type": "display_data"
    }
   ],
   "source": [
    "# Visualise the frequency of sentiments in the dataset\n",
    "plt.figure(figsize=(10,6))\n",
    "rd[\"Sentiment\"].value_counts().plot.bar(color=\"Red\")\n",
    "plt.title(\"Distribution of Sentiment\", fontsize=20)\n",
    "plt.xlabel(\"Sentiment\", fontsize=15)\n",
    "plt.ylabel(\"Count\", fontsize=15)\n",
    "plt.xticks(rotation=360)\n",
    "plt.show()"
   ]
  },
  {
   "cell_type": "markdown",
   "id": "3daa0451-3e6c-4a2e-914e-ad827fbe5175",
   "metadata": {},
   "source": [
    "#### Each customer sentiment is visualised to determine the distribution of the reviews in the dataset. More than 90% of the customers gave a psoitive feedback, followed by the negative reviews. "
   ]
  },
  {
   "cell_type": "markdown",
   "id": "02d1ba07-69a3-4a45-ae47-7da2e8f7ebb8",
   "metadata": {},
   "source": [
    "## Text PreProcessing\n",
    "* Lower conversion\n",
    "* Removal of Punctuation\n",
    "* Removal of Numerical Expressions\n",
    "* Removal of Stopwords\n",
    "* Removal of Infrequent words\n",
    "* Tokenisation\n",
    "* Lemmatization"
   ]
  },
  {
   "cell_type": "code",
   "execution_count": 16,
   "id": "b13f021d-3596-4a55-961f-e7d1d4396416",
   "metadata": {},
   "outputs": [],
   "source": [
    "# Import required libraries\n",
    "import nltk\n",
    "from nltk.corpus import stopwords\n",
    "from nltk.sentiment import SentimentIntensityAnalyzer\n",
    "import re\n",
    "from textblob import Word, TextBlob\n",
    "from wordcloud import WordCloud\n",
    "from PIL import Image"
   ]
  },
  {
   "cell_type": "code",
   "execution_count": 17,
   "id": "1d461da2-406a-478b-bd43-b07265c9e974",
   "metadata": {},
   "outputs": [
    {
     "data": {
      "text/html": [
       "<div>\n",
       "<style scoped>\n",
       "    .dataframe tbody tr th:only-of-type {\n",
       "        vertical-align: middle;\n",
       "    }\n",
       "\n",
       "    .dataframe tbody tr th {\n",
       "        vertical-align: top;\n",
       "    }\n",
       "\n",
       "    .dataframe thead th {\n",
       "        text-align: right;\n",
       "    }\n",
       "</style>\n",
       "<table border=\"1\" class=\"dataframe\">\n",
       "  <thead>\n",
       "    <tr style=\"text-align: right;\">\n",
       "      <th></th>\n",
       "      <th>Unnamed: 0</th>\n",
       "      <th>Username</th>\n",
       "      <th>Location</th>\n",
       "      <th>Total Review</th>\n",
       "      <th>Date of Experience</th>\n",
       "      <th>Content</th>\n",
       "      <th>Rating</th>\n",
       "      <th>Sentiment</th>\n",
       "    </tr>\n",
       "  </thead>\n",
       "  <tbody>\n",
       "    <tr>\n",
       "      <th>0</th>\n",
       "      <td>0</td>\n",
       "      <td>Christopher Smith</td>\n",
       "      <td>GB</td>\n",
       "      <td>3reviews</td>\n",
       "      <td>2024-01-30</td>\n",
       "      <td>I have been shopping with AliExpress for some ...</td>\n",
       "      <td>4</td>\n",
       "      <td>Positive(&gt;3)</td>\n",
       "    </tr>\n",
       "    <tr>\n",
       "      <th>1</th>\n",
       "      <td>1</td>\n",
       "      <td>blarp.tha.alien</td>\n",
       "      <td>AU</td>\n",
       "      <td>1review</td>\n",
       "      <td>2024-05-16</td>\n",
       "      <td>AliExpress is Legit a great place to find amaz...</td>\n",
       "      <td>5</td>\n",
       "      <td>Positive(&gt;3)</td>\n",
       "    </tr>\n",
       "    <tr>\n",
       "      <th>2</th>\n",
       "      <td>2</td>\n",
       "      <td>Margarita Chavez Villalobos</td>\n",
       "      <td>US</td>\n",
       "      <td>3reviews</td>\n",
       "      <td>2024-05-13</td>\n",
       "      <td>AliExpress does pretty good on delivering SMAL...</td>\n",
       "      <td>3</td>\n",
       "      <td>Neutral(3)</td>\n",
       "    </tr>\n",
       "    <tr>\n",
       "      <th>3</th>\n",
       "      <td>3</td>\n",
       "      <td>Mario Alzate</td>\n",
       "      <td>US</td>\n",
       "      <td>1review</td>\n",
       "      <td>2024-05-18</td>\n",
       "      <td>Well, if you educate yourself just a little on...</td>\n",
       "      <td>5</td>\n",
       "      <td>Positive(&gt;3)</td>\n",
       "    </tr>\n",
       "    <tr>\n",
       "      <th>4</th>\n",
       "      <td>4</td>\n",
       "      <td>AE user</td>\n",
       "      <td>US</td>\n",
       "      <td>1review</td>\n",
       "      <td>2024-05-04</td>\n",
       "      <td>Found some nice deals, but also ran into a sca...</td>\n",
       "      <td>5</td>\n",
       "      <td>Positive(&gt;3)</td>\n",
       "    </tr>\n",
       "  </tbody>\n",
       "</table>\n",
       "</div>"
      ],
      "text/plain": [
       "   Unnamed: 0                     Username Location Total Review  \\\n",
       "0           0            Christopher Smith       GB     3reviews   \n",
       "1           1              blarp.tha.alien       AU      1review   \n",
       "2           2  Margarita Chavez Villalobos       US     3reviews   \n",
       "3           3                 Mario Alzate       US      1review   \n",
       "4           4                      AE user       US      1review   \n",
       "\n",
       "  Date of Experience                                            Content  \\\n",
       "0         2024-01-30  I have been shopping with AliExpress for some ...   \n",
       "1         2024-05-16  AliExpress is Legit a great place to find amaz...   \n",
       "2         2024-05-13  AliExpress does pretty good on delivering SMAL...   \n",
       "3         2024-05-18  Well, if you educate yourself just a little on...   \n",
       "4         2024-05-04  Found some nice deals, but also ran into a sca...   \n",
       "\n",
       "   Rating     Sentiment  \n",
       "0       4  Positive(>3)  \n",
       "1       5  Positive(>3)  \n",
       "2       3    Neutral(3)  \n",
       "3       5  Positive(>3)  \n",
       "4       5  Positive(>3)  "
      ]
     },
     "execution_count": 17,
     "metadata": {},
     "output_type": "execute_result"
    }
   ],
   "source": [
    "rd.head(5)"
   ]
  },
  {
   "cell_type": "code",
   "execution_count": 18,
   "id": "4b6dbdbd-2440-4b46-894d-923131e647ad",
   "metadata": {},
   "outputs": [],
   "source": [
    "# Convert the text to lower case using str.lower()\n",
    "\n",
    "rd[\"Content\"] = rd[\"Content\"].str.lower()"
   ]
  },
  {
   "cell_type": "code",
   "execution_count": 19,
   "id": "53db28ce-1c01-4f02-9a31-098c449b3f67",
   "metadata": {},
   "outputs": [
    {
     "data": {
      "text/plain": [
       "0        i have been shopping with aliexpress for some ...\n",
       "1        aliexpress is legit a great place to find amaz...\n",
       "2        aliexpress does pretty good on delivering smal...\n",
       "3        well, if you educate yourself just a little on...\n",
       "4        found some nice deals, but also ran into a sca...\n",
       "                               ...                        \n",
       "46095    after pruchase and when payment was made, sell...\n",
       "46096    if you place an order from aliexpress, as all ...\n",
       "46097    i've dealt on aliexpress 11 times now and have...\n",
       "46098    aliexpress failed open investigation to refund...\n",
       "46099    first of all, before i ordered from this site,...\n",
       "Name: Content, Length: 36706, dtype: object"
      ]
     },
     "execution_count": 19,
     "metadata": {},
     "output_type": "execute_result"
    }
   ],
   "source": [
    "rd[\"Content\"]"
   ]
  },
  {
   "cell_type": "markdown",
   "id": "e587a0e1-f4b1-4f96-8db3-71980a9e8fb5",
   "metadata": {},
   "source": [
    "#### The texts are converted to lower case to ensure uniformity of the text entry"
   ]
  },
  {
   "cell_type": "code",
   "execution_count": 20,
   "id": "d4e623ee-ee0b-4b5e-a7c2-8d3061265097",
   "metadata": {},
   "outputs": [],
   "source": [
    "# Removal of punctuations using str.replace()\n",
    "rd[\"Content\"]=rd[\"Content\"].str.replace('[^\\w\\s]',\" \", regex=True)"
   ]
  },
  {
   "cell_type": "code",
   "execution_count": 21,
   "id": "ff92566b-ed34-4d1b-a6ff-7110c5e5191b",
   "metadata": {},
   "outputs": [
    {
     "data": {
      "text/plain": [
       "0        i have been shopping with aliexpress for some ...\n",
       "1        aliexpress is legit a great place to find amaz...\n",
       "2        aliexpress does pretty good on delivering smal...\n",
       "3        well  if you educate yourself just a little on...\n",
       "4        found some nice deals  but also ran into a sca...\n",
       "                               ...                        \n",
       "46095    after pruchase and when payment was made  sell...\n",
       "46096    if you place an order from aliexpress  as all ...\n",
       "46097    i ve dealt on aliexpress 11 times now and have...\n",
       "46098    aliexpress failed open investigation to refund...\n",
       "46099    first of all  before i ordered from this site ...\n",
       "Name: Content, Length: 36706, dtype: object"
      ]
     },
     "execution_count": 21,
     "metadata": {},
     "output_type": "execute_result"
    }
   ],
   "source": [
    "rd[\"Content\"]"
   ]
  },
  {
   "cell_type": "markdown",
   "id": "d7a1c6a3-899c-4c10-8cf5-b7114254e682",
   "metadata": {},
   "source": [
    "#### Punctuations are removed from the texts to ensure efficient analysis by the models"
   ]
  },
  {
   "cell_type": "code",
   "execution_count": 22,
   "id": "24da5c6f-f5f5-4a0f-b1f0-3898f3913040",
   "metadata": {},
   "outputs": [],
   "source": [
    "# Removal of numerical values\n",
    "rd[\"Content\"]=rd[\"Content\"].str.replace('\\d', \" \", regex=True)"
   ]
  },
  {
   "cell_type": "code",
   "execution_count": 23,
   "id": "bcfaf068-ae11-44ec-8000-b0a1b6783273",
   "metadata": {},
   "outputs": [
    {
     "data": {
      "text/plain": [
       "0        i have been shopping with aliexpress for some ...\n",
       "1        aliexpress is legit a great place to find amaz...\n",
       "2        aliexpress does pretty good on delivering smal...\n",
       "3        well  if you educate yourself just a little on...\n",
       "4        found some nice deals  but also ran into a sca...\n",
       "                               ...                        \n",
       "46095    after pruchase and when payment was made  sell...\n",
       "46096    if you place an order from aliexpress  as all ...\n",
       "46097    i ve dealt on aliexpress    times now and have...\n",
       "46098    aliexpress failed open investigation to refund...\n",
       "46099    first of all  before i ordered from this site ...\n",
       "Name: Content, Length: 36706, dtype: object"
      ]
     },
     "execution_count": 23,
     "metadata": {},
     "output_type": "execute_result"
    }
   ],
   "source": [
    "rd[\"Content\"]"
   ]
  },
  {
   "cell_type": "markdown",
   "id": "7eee51a2-9b0f-43f5-9791-23e7a724a795",
   "metadata": {},
   "source": [
    "#### Numerical values are eliminated from the content column,this process enables us to focus more on our language processing and text analysis tasks. Consequently, we can concentrate solely on the textual content, allowing for meaningful data analysis."
   ]
  },
  {
   "cell_type": "code",
   "execution_count": 24,
   "id": "7013918d-2c60-4797-a9a1-599680643bfd",
   "metadata": {},
   "outputs": [
    {
     "name": "stderr",
     "output_type": "stream",
     "text": [
      "[nltk_data] Downloading package stopwords to\n",
      "[nltk_data]     C:\\Users\\ADACHUKWU\\AppData\\Roaming\\nltk_data...\n",
      "[nltk_data]   Package stopwords is already up-to-date!\n"
     ]
    },
    {
     "data": {
      "text/plain": [
       "True"
      ]
     },
     "execution_count": 24,
     "metadata": {},
     "output_type": "execute_result"
    }
   ],
   "source": [
    "# Removal of Stopwords to remove repetitve terms that are irrelevant\n",
    "nltk.download(\"stopwords\")"
   ]
  },
  {
   "cell_type": "code",
   "execution_count": 25,
   "id": "e6c65ec9-e52b-495c-a41a-e7bbffd6c7b2",
   "metadata": {},
   "outputs": [],
   "source": [
    "# Instantiate the stopwords\n",
    "sw = stopwords.words(\"english\")"
   ]
  },
  {
   "cell_type": "code",
   "execution_count": 26,
   "id": "7fb007a2-4aba-4016-828a-a5ad0630f135",
   "metadata": {},
   "outputs": [],
   "source": [
    "rd[\"Content\"] = rd[\"Content\"].apply(lambda x: \" \".join(x for x in str(x).split() if x not in sw))"
   ]
  },
  {
   "cell_type": "code",
   "execution_count": 27,
   "id": "a3a740d6-9277-4417-9b78-76713efb3902",
   "metadata": {},
   "outputs": [
    {
     "data": {
      "text/plain": [
       "0        shopping aliexpress time ever chose choice del...\n",
       "1        aliexpress legit great place find amazing barg...\n",
       "2        aliexpress pretty good delivering small items ...\n",
       "3        well educate little get best benefits search f...\n",
       "4        found nice deals also ran scam fake item selle...\n",
       "                               ...                        \n",
       "46095    pruchase payment made seller try increase pric...\n",
       "46096    place order aliexpress listings posted sellers...\n",
       "46097    dealt aliexpress times major problems one sell...\n",
       "46098    aliexpress failed open investigation refund ev...\n",
       "46099    first ordered site research saw site contained...\n",
       "Name: Content, Length: 36706, dtype: object"
      ]
     },
     "execution_count": 27,
     "metadata": {},
     "output_type": "execute_result"
    }
   ],
   "source": [
    "rd[\"Content\"]"
   ]
  },
  {
   "cell_type": "markdown",
   "id": "351eb1d8-5908-4c6a-8a5b-732ec91c9964",
   "metadata": {},
   "source": [
    "#### Often repeated and less meaningful words are eliminated from the text to focus on words with more semantic meaning"
   ]
  },
  {
   "cell_type": "code",
   "execution_count": 28,
   "id": "c7d7078b-1d04-44ce-903d-f2bac471286e",
   "metadata": {},
   "outputs": [],
   "source": [
    "# Eliminating rarewords that offer no semantics meaning to the analysis\n",
    "freq_words = pd.Series(\" \".join(rd[\"Content\"]).split()).value_counts().tail(5000)"
   ]
  },
  {
   "cell_type": "code",
   "execution_count": 29,
   "id": "283fc862-5859-42b0-9419-b685d0845066",
   "metadata": {},
   "outputs": [
    {
     "data": {
      "text/plain": [
       "adquire          1\n",
       "releseated       1\n",
       "cyboris          1\n",
       "everencounter    1\n",
       "dro              1\n",
       "                ..\n",
       "basin            1\n",
       "washin           1\n",
       "cantact          1\n",
       "appease          1\n",
       "xdjust           1\n",
       "Name: count, Length: 5000, dtype: int64"
      ]
     },
     "execution_count": 29,
     "metadata": {},
     "output_type": "execute_result"
    }
   ],
   "source": [
    "freq_words"
   ]
  },
  {
   "cell_type": "code",
   "execution_count": 30,
   "id": "7f698389-dec2-4802-ac03-731088546243",
   "metadata": {},
   "outputs": [],
   "source": [
    "# Fltering infrequent words from the content column\n",
    "\n",
    "rd[\"Content\"] = rd[\"Content\"].apply(lambda x: \" \".join(x for x in x.split() if x not in freq_words))"
   ]
  },
  {
   "cell_type": "code",
   "execution_count": 31,
   "id": "7daa4dab-1816-43db-91c9-7f92877225d9",
   "metadata": {},
   "outputs": [
    {
     "data": {
      "text/plain": [
       "0        shopping aliexpress time ever chose choice del...\n",
       "1        aliexpress legit great place find amazing barg...\n",
       "2        aliexpress pretty good delivering small items ...\n",
       "3        well educate little get best benefits search f...\n",
       "4        found nice deals also ran scam fake item selle...\n",
       "                               ...                        \n",
       "46095    pruchase payment made seller try increase pric...\n",
       "46096    place order aliexpress listings posted sellers...\n",
       "46097    dealt aliexpress times major problems one sell...\n",
       "46098    aliexpress failed open investigation refund ev...\n",
       "46099    first ordered site research saw site contained...\n",
       "Name: Content, Length: 36706, dtype: object"
      ]
     },
     "execution_count": 31,
     "metadata": {},
     "output_type": "execute_result"
    }
   ],
   "source": [
    "rd[\"Content\"]"
   ]
  },
  {
   "cell_type": "markdown",
   "id": "8a6de59e-d42c-4dde-b029-b0c1819a4f83",
   "metadata": {},
   "source": [
    "#### Infrequent words that appear once in the entire dataset is removed to ensure the models focus on words with more meaning."
   ]
  },
  {
   "cell_type": "markdown",
   "id": "abb8d923-7f1d-46c1-814f-8a4dcfb5e2c4",
   "metadata": {},
   "source": [
    "## Tokenzation"
   ]
  },
  {
   "cell_type": "code",
   "execution_count": 32,
   "id": "93580202-ff12-471f-a90e-afff24c3fff0",
   "metadata": {},
   "outputs": [],
   "source": [
    "from nltk.tokenize import word_tokenize"
   ]
  },
  {
   "cell_type": "code",
   "execution_count": 33,
   "id": "885ca495-d0e0-4650-a493-122d368cf835",
   "metadata": {},
   "outputs": [
    {
     "name": "stderr",
     "output_type": "stream",
     "text": [
      "[nltk_data] Downloading package punkt to\n",
      "[nltk_data]     C:\\Users\\ADACHUKWU\\AppData\\Roaming\\nltk_data...\n",
      "[nltk_data]   Package punkt is already up-to-date!\n"
     ]
    },
    {
     "data": {
      "text/plain": [
       "True"
      ]
     },
     "execution_count": 33,
     "metadata": {},
     "output_type": "execute_result"
    }
   ],
   "source": [
    "nltk.download('punkt')"
   ]
  },
  {
   "cell_type": "code",
   "execution_count": 34,
   "id": "d15bf056-2454-42e0-a15d-30690256a47e",
   "metadata": {},
   "outputs": [],
   "source": [
    "rd[\"Content\"] = rd[\"Content\"].apply(word_tokenize)"
   ]
  },
  {
   "cell_type": "code",
   "execution_count": 35,
   "id": "ea8a9e58-23d8-48de-a0df-ef9943d4e0f6",
   "metadata": {},
   "outputs": [
    {
     "data": {
      "text/plain": [
       "0        [shopping, aliexpress, time, ever, chose, choi...\n",
       "1        [aliexpress, legit, great, place, find, amazin...\n",
       "2        [aliexpress, pretty, good, delivering, small, ...\n",
       "3        [well, educate, little, get, best, benefits, s...\n",
       "4        [found, nice, deals, also, ran, scam, fake, it...\n",
       "                               ...                        \n",
       "46095    [pruchase, payment, made, seller, try, increas...\n",
       "46096    [place, order, aliexpress, listings, posted, s...\n",
       "46097    [dealt, aliexpress, times, major, problems, on...\n",
       "46098    [aliexpress, failed, open, investigation, refu...\n",
       "46099    [first, ordered, site, research, saw, site, co...\n",
       "Name: Content, Length: 36706, dtype: object"
      ]
     },
     "execution_count": 35,
     "metadata": {},
     "output_type": "execute_result"
    }
   ],
   "source": [
    "rd[\"Content\"]"
   ]
  },
  {
   "cell_type": "markdown",
   "id": "f26c57e1-13a4-41ab-acf3-cf3eebcaa0fd",
   "metadata": {},
   "source": [
    "#### Texts in the \"content\" columns are split into units for easy processing based on these words instead of the entire sentence"
   ]
  },
  {
   "cell_type": "code",
   "execution_count": 43,
   "id": "7a6ef4af-c403-4dfb-ab92-fdc7c41ada3e",
   "metadata": {},
   "outputs": [],
   "source": [
    "from nltk.stem import WordNetLemmatizer\n",
    "from nltk.corpus import wordnet"
   ]
  },
  {
   "cell_type": "code",
   "execution_count": 41,
   "id": "ceebc184-211e-4b24-b0a2-2631c815e0aa",
   "metadata": {},
   "outputs": [
    {
     "name": "stderr",
     "output_type": "stream",
     "text": [
      "[nltk_data] Downloading package wordnet to\n",
      "[nltk_data]     C:\\Users\\ADACHUKWU\\AppData\\Roaming\\nltk_data...\n",
      "[nltk_data]   Package wordnet is already up-to-date!\n"
     ]
    },
    {
     "data": {
      "text/plain": [
       "True"
      ]
     },
     "execution_count": 41,
     "metadata": {},
     "output_type": "execute_result"
    }
   ],
   "source": [
    "nltk.download('wordnet')"
   ]
  },
  {
   "cell_type": "code",
   "execution_count": 42,
   "id": "1ac63087-11f9-4a25-8a5f-44e7cd53054e",
   "metadata": {},
   "outputs": [
    {
     "name": "stderr",
     "output_type": "stream",
     "text": [
      "[nltk_data] Downloading package omw-1.4 to\n",
      "[nltk_data]     C:\\Users\\ADACHUKWU\\AppData\\Roaming\\nltk_data...\n",
      "[nltk_data]   Package omw-1.4 is already up-to-date!\n"
     ]
    },
    {
     "data": {
      "text/plain": [
       "True"
      ]
     },
     "execution_count": 42,
     "metadata": {},
     "output_type": "execute_result"
    }
   ],
   "source": [
    "nltk.download('omw-1.4')"
   ]
  },
  {
   "cell_type": "code",
   "execution_count": 44,
   "id": "e217511f-84eb-4512-97e9-983c5990de02",
   "metadata": {},
   "outputs": [
    {
     "name": "stderr",
     "output_type": "stream",
     "text": [
      "[nltk_data] Downloading package averaged_perceptron_tagger to\n",
      "[nltk_data]     C:\\Users\\ADACHUKWU\\AppData\\Roaming\\nltk_data...\n",
      "[nltk_data]   Unzipping taggers\\averaged_perceptron_tagger.zip.\n"
     ]
    },
    {
     "data": {
      "text/plain": [
       "True"
      ]
     },
     "execution_count": 44,
     "metadata": {},
     "output_type": "execute_result"
    }
   ],
   "source": [
    "nltk.download('averaged_perceptron_tagger')"
   ]
  },
  {
   "cell_type": "code",
   "execution_count": 47,
   "id": "b82e0424-66f2-4082-9609-ded32c963725",
   "metadata": {},
   "outputs": [],
   "source": [
    "# Initialise the WordNetLemmatizer\n",
    "lemmatizer = WordNetLemmatizer()"
   ]
  },
  {
   "cell_type": "code",
   "execution_count": 48,
   "id": "2b9698a8-cfe2-4cfb-b462-464dc04b3280",
   "metadata": {},
   "outputs": [],
   "source": [
    "# Function to map POS tag to first character lemmatize() accepts\n",
    "def get_wordnet_pos(word):\n",
    "    tag = nltk.pos_tag([word])[0][1][0].upper()\n",
    "    tag_dict = {\"J\": wordnet.ADJ,\n",
    "                \"N\": wordnet.NOUN,\n",
    "                \"V\": wordnet.VERB,\n",
    "                \"R\": wordnet.ADV}\n",
    "    return tag_dict.get(tag, wordnet.NOUN)"
   ]
  },
  {
   "cell_type": "code",
   "execution_count": 49,
   "id": "3a78085b-1e2b-407a-98b3-7839cadd6024",
   "metadata": {},
   "outputs": [],
   "source": [
    "# Function to lemmatize a list of word\n",
    "def lemmatize_words(words):\n",
    "    return [lemmatizer.lemmatize(word, get_wordnet_pos(word)) for word in words]"
   ]
  },
  {
   "cell_type": "code",
   "execution_count": 50,
   "id": "be1ae7c7-7151-4270-b44e-b194b47a0f8d",
   "metadata": {},
   "outputs": [],
   "source": [
    "# Apply the lemmatization function to \"Content\" column\n",
    "rd[\"Content\"] = rd[\"Content\"].apply(lemmatize_words)"
   ]
  },
  {
   "cell_type": "code",
   "execution_count": 61,
   "id": "84075b84-bccf-4f57-93ab-51839dbeb408",
   "metadata": {},
   "outputs": [
    {
     "data": {
      "text/plain": [
       "0        [shopping, aliexpress, time, ever, chose, choi...\n",
       "1        [aliexpress, legit, great, place, find, amaze,...\n",
       "2        [aliexpress, pretty, good, deliver, small, ite...\n",
       "3        [well, educate, little, get, best, benefit, se...\n",
       "4        [found, nice, deal, also, ran, scam, fake, ite...\n",
       "                               ...                        \n",
       "46095    [pruchase, payment, make, seller, try, increas...\n",
       "46096    [place, order, aliexpress, listing, post, sell...\n",
       "46097    [dealt, aliexpress, time, major, problem, one,...\n",
       "46098    [aliexpress, fail, open, investigation, refund...\n",
       "46099    [first, order, site, research, saw, site, cont...\n",
       "Name: Content, Length: 36706, dtype: object"
      ]
     },
     "execution_count": 61,
     "metadata": {},
     "output_type": "execute_result"
    }
   ],
   "source": [
    "rd[\"Content\"]"
   ]
  },
  {
   "cell_type": "markdown",
   "id": "4959e83a-39cc-4f8a-a831-c3f44fde0462",
   "metadata": {},
   "source": [
    "#### This step reduces each word to its base form e.g. \"buying\" to \"buy\""
   ]
  },
  {
   "cell_type": "markdown",
   "id": "f37f0797-020c-4c78-a5e0-0228f83179da",
   "metadata": {},
   "source": [
    "## Text Visualisation\n",
    "* Calculating Term Frequencies"
   ]
  },
  {
   "cell_type": "code",
   "execution_count": 64,
   "id": "d6ef9234-e9b4-439e-82a0-fefbbf35c89f",
   "metadata": {},
   "outputs": [],
   "source": [
    "tf = rd[\"Content\"].apply(lambda x: pd.Series(x).value_counts()).sum(axis=0).reset_index()\n"
   ]
  },
  {
   "cell_type": "code",
   "execution_count": 66,
   "id": "0ed1e267-61e0-4465-8d52-fbd6a83a802d",
   "metadata": {},
   "outputs": [],
   "source": [
    "tf.columns=[\"Words\", \"Frequency\"]"
   ]
  },
  {
   "cell_type": "code",
   "execution_count": 67,
   "id": "d728a0d3-aebc-4faf-96b6-a04971abe4a9",
   "metadata": {},
   "outputs": [],
   "source": [
    "tf_sorted = tf.sort_values(by=\"Frequency\", ascending = False)"
   ]
  },
  {
   "cell_type": "code",
   "execution_count": 68,
   "id": "5e360aaf-bf7c-4f31-93c9-73982ff502c0",
   "metadata": {},
   "outputs": [
    {
     "data": {
      "text/html": [
       "<div>\n",
       "<style scoped>\n",
       "    .dataframe tbody tr th:only-of-type {\n",
       "        vertical-align: middle;\n",
       "    }\n",
       "\n",
       "    .dataframe tbody tr th {\n",
       "        vertical-align: top;\n",
       "    }\n",
       "\n",
       "    .dataframe thead th {\n",
       "        text-align: right;\n",
       "    }\n",
       "</style>\n",
       "<table border=\"1\" class=\"dataframe\">\n",
       "  <thead>\n",
       "    <tr style=\"text-align: right;\">\n",
       "      <th></th>\n",
       "      <th>Words</th>\n",
       "      <th>Frequency</th>\n",
       "    </tr>\n",
       "  </thead>\n",
       "  <tbody>\n",
       "    <tr>\n",
       "      <th>3</th>\n",
       "      <td>aliexpress</td>\n",
       "      <td>18401.0</td>\n",
       "    </tr>\n",
       "    <tr>\n",
       "      <th>13</th>\n",
       "      <td>seller</td>\n",
       "      <td>16499.0</td>\n",
       "    </tr>\n",
       "    <tr>\n",
       "      <th>98</th>\n",
       "      <td>order</td>\n",
       "      <td>14756.0</td>\n",
       "    </tr>\n",
       "    <tr>\n",
       "      <th>57</th>\n",
       "      <td>good</td>\n",
       "      <td>14273.0</td>\n",
       "    </tr>\n",
       "    <tr>\n",
       "      <th>4</th>\n",
       "      <td>item</td>\n",
       "      <td>12207.0</td>\n",
       "    </tr>\n",
       "    <tr>\n",
       "      <th>...</th>\n",
       "      <td>...</td>\n",
       "      <td>...</td>\n",
       "    </tr>\n",
       "    <tr>\n",
       "      <th>15401</th>\n",
       "      <td>goodsdd</td>\n",
       "      <td>1.0</td>\n",
       "    </tr>\n",
       "    <tr>\n",
       "      <th>15402</th>\n",
       "      <td>swing</td>\n",
       "      <td>1.0</td>\n",
       "    </tr>\n",
       "    <tr>\n",
       "      <th>15403</th>\n",
       "      <td>funy</td>\n",
       "      <td>1.0</td>\n",
       "    </tr>\n",
       "    <tr>\n",
       "      <th>4713</th>\n",
       "      <td>handband</td>\n",
       "      <td>1.0</td>\n",
       "    </tr>\n",
       "    <tr>\n",
       "      <th>23628</th>\n",
       "      <td>blablaa</td>\n",
       "      <td>1.0</td>\n",
       "    </tr>\n",
       "  </tbody>\n",
       "</table>\n",
       "<p>23629 rows × 2 columns</p>\n",
       "</div>"
      ],
      "text/plain": [
       "            Words  Frequency\n",
       "3      aliexpress    18401.0\n",
       "13         seller    16499.0\n",
       "98          order    14756.0\n",
       "57           good    14273.0\n",
       "4            item    12207.0\n",
       "...           ...        ...\n",
       "15401     goodsdd        1.0\n",
       "15402       swing        1.0\n",
       "15403        funy        1.0\n",
       "4713     handband        1.0\n",
       "23628     blablaa        1.0\n",
       "\n",
       "[23629 rows x 2 columns]"
      ]
     },
     "execution_count": 68,
     "metadata": {},
     "output_type": "execute_result"
    }
   ],
   "source": [
    "tf_sorted"
   ]
  },
  {
   "cell_type": "code",
   "execution_count": 74,
   "id": "2167f6c9-53d6-4631-81eb-9705b5d78984",
   "metadata": {},
   "outputs": [
    {
     "data": {
      "image/png": "[encoded data removed]",
      "text/plain": [
       "<Figure size 640x480 with 1 Axes>"
      ]
     },
     "metadata": {},
     "output_type": "display_data"
    }
   ],
   "source": [
    "# Visualise in a Bar plot\n",
    "# Sort the DataFrame in ascending order based on the \"Frequency\" column\n",
    "tf_bar = tf[tf[\"Frequency\"] > 5000].sort_values(by=\"Frequency\", ascending=True)\n",
    "\n",
    "# Plot the sorted DataFrame\n",
    "tf_bar.plot.barh(x=\"Words\", y=\"Frequency\")\n",
    "plt.show(block=True)\n"
   ]
  },
  {
   "cell_type": "code",
   "execution_count": 85,
   "id": "060ec73d-a18f-4a89-893f-4c21fb14eb0c",
   "metadata": {},
   "outputs": [
    {
     "data": {
      "image/png": "[encoded data removed]",
      "text/plain": [
       "<Figure size 640x480 with 1 Axes>"
      ]
     },
     "metadata": {},
     "output_type": "display_data"
    }
   ],
   "source": [
    "## Visualise the most recurring words in a wordcloud\n",
    "tf_top_10000 = tf.sort_values(by=\"Frequency\", ascending=False).head(20000)\n",
    "\n",
    "text = \" \".join(i for i in tf_top_10000[\"Words\"])\n",
    "\n",
    "wordcloud = WordCloud().generate(text)\n",
    "plt.imshow(wordcloud, interpolation= \"bilinear\")\n",
    "plt.axis(\"off\")\n",
    "plt.show()"
   ]
  },
  {
   "cell_type": "markdown",
   "id": "7a27cde9-ad28-4f11-8f7d-9c998fd2c886",
   "metadata": {},
   "source": [
    "#### This step displays the frequently occurring words in the dataset in a visual format, clearly showing their importance and prevalence in the reviews. This allows for observation of trends and features in the text data."
   ]
  },
  {
   "cell_type": "markdown",
   "id": "72105339-50de-4056-9dec-5074e874b3da",
   "metadata": {},
   "source": [
    "## Phase Two\n",
    "* Sentiment Analysis using vADER\n",
    "* Machine learning algorithms (SVC, NAIVE-BAYES, LOGISTIC REGRESSION)"
   ]
  },
  {
   "cell_type": "code",
   "execution_count": 99,
   "id": "569a9496-b0cd-478e-a0cd-9aca14e67b79",
   "metadata": {},
   "outputs": [
    {
     "name": "stderr",
     "output_type": "stream",
     "text": [
      "[nltk_data] Downloading package vader_lexicon to\n",
      "[nltk_data]     C:\\Users\\ADACHUKWU\\AppData\\Roaming\\nltk_data...\n",
      "[nltk_data]   Package vader_lexicon is already up-to-date!\n"
     ]
    },
    {
     "data": {
      "text/plain": [
       "True"
      ]
     },
     "execution_count": 99,
     "metadata": {},
     "output_type": "execute_result"
    }
   ],
   "source": [
    "# Vader pretrained model\n",
    "nltk.download(\"vader_lexicon\")"
   ]
  },
  {
   "cell_type": "code",
   "execution_count": 100,
   "id": "293f3090-2065-4d66-864d-2d9e68417627",
   "metadata": {},
   "outputs": [],
   "source": [
    "from nltk.sentiment.vader import SentimentIntensityAnalyzer"
   ]
  },
  {
   "cell_type": "code",
   "execution_count": 101,
   "id": "f2ef2039-964a-4bf1-a166-84cb1559546a",
   "metadata": {},
   "outputs": [],
   "source": [
    "rd[\"Content\"] = rd[\"Content\"].apply(lambda x: \" \".join(x))"
   ]
  },
  {
   "cell_type": "code",
   "execution_count": 102,
   "id": "bfcb74df-435d-4acb-b9fe-3c1c8334f812",
   "metadata": {},
   "outputs": [],
   "source": [
    "# Instantiate sentiment analyser\n",
    "sid = SentimentIntensityAnalyzer()"
   ]
  },
  {
   "cell_type": "code",
   "execution_count": 103,
   "id": "b545ef71-4fb5-4dd5-9724-50c9f023d166",
   "metadata": {},
   "outputs": [],
   "source": [
    "# function to get sentiment scores\n",
    "def get_sentiment(text):\n",
    "    return sid.polarity_scores(text)"
   ]
  },
  {
   "cell_type": "code",
   "execution_count": 110,
   "id": "68f8f148-8461-4699-bd7a-118b06ee61c0",
   "metadata": {},
   "outputs": [],
   "source": [
    "rd[\"Polarity_Scores\"] = rd[\"Content\"].apply(lambda x: get_sentiment(x))"
   ]
  },
  {
   "cell_type": "code",
   "execution_count": 111,
   "id": "4f952afb-dfa4-4a39-8ffa-0bf81bd100f2",
   "metadata": {},
   "outputs": [
    {
     "data": {
      "text/plain": [
       "0        {'neg': 0.13, 'neu': 0.753, 'pos': 0.117, 'com...\n",
       "1        {'neg': 0.0, 'neu': 0.667, 'pos': 0.333, 'comp...\n",
       "2        {'neg': 0.0, 'neu': 0.562, 'pos': 0.438, 'comp...\n",
       "3        {'neg': 0.0, 'neu': 0.578, 'pos': 0.422, 'comp...\n",
       "4        {'neg': 0.184, 'neu': 0.64, 'pos': 0.176, 'com...\n",
       "                               ...                        \n",
       "46095    {'neg': 0.0, 'neu': 0.796, 'pos': 0.204, 'comp...\n",
       "46096    {'neg': 0.099, 'neu': 0.813, 'pos': 0.088, 'co...\n",
       "46097    {'neg': 0.298, 'neu': 0.566, 'pos': 0.136, 'co...\n",
       "46098    {'neg': 0.168, 'neu': 0.769, 'pos': 0.062, 'co...\n",
       "46099    {'neg': 0.129, 'neu': 0.716, 'pos': 0.155, 'co...\n",
       "Name: Polarity_Scores, Length: 36706, dtype: object"
      ]
     },
     "execution_count": 111,
     "metadata": {},
     "output_type": "execute_result"
    }
   ],
   "source": [
    "rd[\"Polarity_Scores\"]"
   ]
  },
  {
   "cell_type": "markdown",
   "id": "b04cfa2c-22fd-4dc7-875e-c497825cba8a",
   "metadata": {},
   "source": [
    "#### vADER pretrained model assign polarity scores to each content depending on the emotional tone of each word. "
   ]
  },
  {
   "cell_type": "code",
   "execution_count": 112,
   "id": "ac7f0c5d-6260-4332-b0fc-dbd5ace01ed4",
   "metadata": {},
   "outputs": [],
   "source": [
    "# Define the sentiment label\n",
    "rd[\"Compound\"] = rd[\"Polarity_Scores\"].apply(lambda score_dict: score_dict['compound'])"
   ]
  },
  {
   "cell_type": "code",
   "execution_count": 113,
   "id": "58849ef0-0261-4121-b09d-b4e4fda10dea",
   "metadata": {},
   "outputs": [
    {
     "data": {
      "text/plain": [
       "0       -0.1027\n",
       "1        0.9186\n",
       "2        0.8720\n",
       "3        0.8924\n",
       "4       -0.1280\n",
       "          ...  \n",
       "46095    0.3182\n",
       "46096   -0.7574\n",
       "46097   -0.8271\n",
       "46098   -0.4939\n",
       "46099    0.5699\n",
       "Name: Compound, Length: 36706, dtype: float64"
      ]
     },
     "execution_count": 113,
     "metadata": {},
     "output_type": "execute_result"
    }
   ],
   "source": [
    "rd[\"Compound\"]"
   ]
  },
  {
   "cell_type": "code",
   "execution_count": 115,
   "id": "c114205f-be63-4871-a740-546b95dfdf90",
   "metadata": {},
   "outputs": [],
   "source": [
    "rd['SentimentLabel'] = rd['Content'].apply(\n",
    "    lambda x: \"Positive\" if sid.polarity_scores(x)[\"compound\"] > 0.05 else (\n",
    "          \"Negative\" if sid.polarity_scores(x)[\"compound\"] < -0.05 else \"Neutral\"))"
   ]
  },
  {
   "cell_type": "code",
   "execution_count": 116,
   "id": "62b2b0a4-c9ce-43b0-8456-8e14047ee33e",
   "metadata": {},
   "outputs": [
    {
     "data": {
      "text/plain": [
       "0        Negative\n",
       "1        Positive\n",
       "2        Positive\n",
       "3        Positive\n",
       "4        Negative\n",
       "           ...   \n",
       "46095    Positive\n",
       "46096    Negative\n",
       "46097    Negative\n",
       "46098    Negative\n",
       "46099    Positive\n",
       "Name: SentimentLabel, Length: 36706, dtype: object"
      ]
     },
     "execution_count": 116,
     "metadata": {},
     "output_type": "execute_result"
    }
   ],
   "source": [
    "rd[\"SentimentLabel\"]"
   ]
  },
  {
   "cell_type": "markdown",
   "id": "5fb83db9-8d3d-47b4-8eb8-478e537c59c1",
   "metadata": {},
   "source": [
    "### The polarity scores are aggregated (compound score) to label each sentiment based on the total score. Greater than 0.05 is postive, less than -0.05 is negative, anyother score is neutral."
   ]
  },
  {
   "cell_type": "code",
   "execution_count": 117,
   "id": "857c54fa-dfaa-42ee-b252-eaf6b4d7dede",
   "metadata": {},
   "outputs": [
    {
     "data": {
      "text/html": [
       "<div>\n",
       "<style scoped>\n",
       "    .dataframe tbody tr th:only-of-type {\n",
       "        vertical-align: middle;\n",
       "    }\n",
       "\n",
       "    .dataframe tbody tr th {\n",
       "        vertical-align: top;\n",
       "    }\n",
       "\n",
       "    .dataframe thead th {\n",
       "        text-align: right;\n",
       "    }\n",
       "</style>\n",
       "<table border=\"1\" class=\"dataframe\">\n",
       "  <thead>\n",
       "    <tr style=\"text-align: right;\">\n",
       "      <th></th>\n",
       "      <th>Unnamed: 0</th>\n",
       "      <th>Username</th>\n",
       "      <th>Location</th>\n",
       "      <th>Total Review</th>\n",
       "      <th>Date of Experience</th>\n",
       "      <th>Content</th>\n",
       "      <th>Rating</th>\n",
       "      <th>Sentiment</th>\n",
       "      <th>Polarity_Score</th>\n",
       "      <th>Polarity_Scores</th>\n",
       "      <th>Compound</th>\n",
       "      <th>SentimentLabel</th>\n",
       "    </tr>\n",
       "  </thead>\n",
       "  <tbody>\n",
       "    <tr>\n",
       "      <th>0</th>\n",
       "      <td>0</td>\n",
       "      <td>Christopher Smith</td>\n",
       "      <td>GB</td>\n",
       "      <td>3reviews</td>\n",
       "      <td>2024-01-30</td>\n",
       "      <td>shopping aliexpress time ever chose choice del...</td>\n",
       "      <td>4</td>\n",
       "      <td>Positive(&gt;3)</td>\n",
       "      <td>{'neg': 0.13, 'neu': 0.753, 'pos': 0.117, 'com...</td>\n",
       "      <td>{'neg': 0.13, 'neu': 0.753, 'pos': 0.117, 'com...</td>\n",
       "      <td>-0.1027</td>\n",
       "      <td>Negative</td>\n",
       "    </tr>\n",
       "    <tr>\n",
       "      <th>1</th>\n",
       "      <td>1</td>\n",
       "      <td>blarp.tha.alien</td>\n",
       "      <td>AU</td>\n",
       "      <td>1review</td>\n",
       "      <td>2024-05-16</td>\n",
       "      <td>aliexpress legit great place find amaze bargai...</td>\n",
       "      <td>5</td>\n",
       "      <td>Positive(&gt;3)</td>\n",
       "      <td>{'neg': 0.0, 'neu': 0.667, 'pos': 0.333, 'comp...</td>\n",
       "      <td>{'neg': 0.0, 'neu': 0.667, 'pos': 0.333, 'comp...</td>\n",
       "      <td>0.9186</td>\n",
       "      <td>Positive</td>\n",
       "    </tr>\n",
       "    <tr>\n",
       "      <th>2</th>\n",
       "      <td>2</td>\n",
       "      <td>Margarita Chavez Villalobos</td>\n",
       "      <td>US</td>\n",
       "      <td>3reviews</td>\n",
       "      <td>2024-05-13</td>\n",
       "      <td>aliexpress pretty good deliver small item big ...</td>\n",
       "      <td>3</td>\n",
       "      <td>Neutral(3)</td>\n",
       "      <td>{'neg': 0.0, 'neu': 0.562, 'pos': 0.438, 'comp...</td>\n",
       "      <td>{'neg': 0.0, 'neu': 0.562, 'pos': 0.438, 'comp...</td>\n",
       "      <td>0.8720</td>\n",
       "      <td>Positive</td>\n",
       "    </tr>\n",
       "    <tr>\n",
       "      <th>3</th>\n",
       "      <td>3</td>\n",
       "      <td>Mario Alzate</td>\n",
       "      <td>US</td>\n",
       "      <td>1review</td>\n",
       "      <td>2024-05-18</td>\n",
       "      <td>well educate little get best benefit search fe...</td>\n",
       "      <td>5</td>\n",
       "      <td>Positive(&gt;3)</td>\n",
       "      <td>{'neg': 0.0, 'neu': 0.578, 'pos': 0.422, 'comp...</td>\n",
       "      <td>{'neg': 0.0, 'neu': 0.578, 'pos': 0.422, 'comp...</td>\n",
       "      <td>0.8924</td>\n",
       "      <td>Positive</td>\n",
       "    </tr>\n",
       "    <tr>\n",
       "      <th>4</th>\n",
       "      <td>4</td>\n",
       "      <td>AE user</td>\n",
       "      <td>US</td>\n",
       "      <td>1review</td>\n",
       "      <td>2024-05-04</td>\n",
       "      <td>found nice deal also ran scam fake item seller...</td>\n",
       "      <td>5</td>\n",
       "      <td>Positive(&gt;3)</td>\n",
       "      <td>{'neg': 0.184, 'neu': 0.64, 'pos': 0.176, 'com...</td>\n",
       "      <td>{'neg': 0.184, 'neu': 0.64, 'pos': 0.176, 'com...</td>\n",
       "      <td>-0.1280</td>\n",
       "      <td>Negative</td>\n",
       "    </tr>\n",
       "  </tbody>\n",
       "</table>\n",
       "</div>"
      ],
      "text/plain": [
       "   Unnamed: 0                     Username Location Total Review  \\\n",
       "0           0            Christopher Smith       GB     3reviews   \n",
       "1           1              blarp.tha.alien       AU      1review   \n",
       "2           2  Margarita Chavez Villalobos       US     3reviews   \n",
       "3           3                 Mario Alzate       US      1review   \n",
       "4           4                      AE user       US      1review   \n",
       "\n",
       "  Date of Experience                                            Content  \\\n",
       "0         2024-01-30  shopping aliexpress time ever chose choice del...   \n",
       "1         2024-05-16  aliexpress legit great place find amaze bargai...   \n",
       "2         2024-05-13  aliexpress pretty good deliver small item big ...   \n",
       "3         2024-05-18  well educate little get best benefit search fe...   \n",
       "4         2024-05-04  found nice deal also ran scam fake item seller...   \n",
       "\n",
       "   Rating     Sentiment                                     Polarity_Score  \\\n",
       "0       4  Positive(>3)  {'neg': 0.13, 'neu': 0.753, 'pos': 0.117, 'com...   \n",
       "1       5  Positive(>3)  {'neg': 0.0, 'neu': 0.667, 'pos': 0.333, 'comp...   \n",
       "2       3    Neutral(3)  {'neg': 0.0, 'neu': 0.562, 'pos': 0.438, 'comp...   \n",
       "3       5  Positive(>3)  {'neg': 0.0, 'neu': 0.578, 'pos': 0.422, 'comp...   \n",
       "4       5  Positive(>3)  {'neg': 0.184, 'neu': 0.64, 'pos': 0.176, 'com...   \n",
       "\n",
       "                                     Polarity_Scores  Compound SentimentLabel  \n",
       "0  {'neg': 0.13, 'neu': 0.753, 'pos': 0.117, 'com...   -0.1027       Negative  \n",
       "1  {'neg': 0.0, 'neu': 0.667, 'pos': 0.333, 'comp...    0.9186       Positive  \n",
       "2  {'neg': 0.0, 'neu': 0.562, 'pos': 0.438, 'comp...    0.8720       Positive  \n",
       "3  {'neg': 0.0, 'neu': 0.578, 'pos': 0.422, 'comp...    0.8924       Positive  \n",
       "4  {'neg': 0.184, 'neu': 0.64, 'pos': 0.176, 'com...   -0.1280       Negative  "
      ]
     },
     "execution_count": 117,
     "metadata": {},
     "output_type": "execute_result"
    }
   ],
   "source": [
    "rd.head()"
   ]
  },
  {
   "cell_type": "code",
   "execution_count": 118,
   "id": "36aa6a30-769e-4b8c-b6e6-5f153dd49f33",
   "metadata": {},
   "outputs": [],
   "source": [
    "# Creating o copy of dataset for modelling\n",
    "processed_df = rd.copy()"
   ]
  },
  {
   "cell_type": "code",
   "execution_count": 120,
   "id": "a8f05c02-e6b1-4d34-8419-14c525f4d86c",
   "metadata": {},
   "outputs": [],
   "source": [
    "# Dropping irrelevant features from the dataset\n",
    "processed_df.drop(columns=[\"Unnamed: 0\", \"Username\", \"Location\", \"Total Review\", \"Polarity_Score\"], inplace=True)"
   ]
  },
  {
   "cell_type": "code",
   "execution_count": 122,
   "id": "516cfe0f-8017-4144-b96d-acce162703c9",
   "metadata": {},
   "outputs": [
    {
     "data": {
      "text/html": [
       "<div>\n",
       "<style scoped>\n",
       "    .dataframe tbody tr th:only-of-type {\n",
       "        vertical-align: middle;\n",
       "    }\n",
       "\n",
       "    .dataframe tbody tr th {\n",
       "        vertical-align: top;\n",
       "    }\n",
       "\n",
       "    .dataframe thead th {\n",
       "        text-align: right;\n",
       "    }\n",
       "</style>\n",
       "<table border=\"1\" class=\"dataframe\">\n",
       "  <thead>\n",
       "    <tr style=\"text-align: right;\">\n",
       "      <th></th>\n",
       "      <th>Date of Experience</th>\n",
       "      <th>Content</th>\n",
       "      <th>Rating</th>\n",
       "      <th>Sentiment</th>\n",
       "      <th>Polarity_Scores</th>\n",
       "      <th>Compound</th>\n",
       "      <th>SentimentLabel</th>\n",
       "    </tr>\n",
       "  </thead>\n",
       "  <tbody>\n",
       "    <tr>\n",
       "      <th>0</th>\n",
       "      <td>2024-01-30</td>\n",
       "      <td>shopping aliexpress time ever chose choice del...</td>\n",
       "      <td>4</td>\n",
       "      <td>Positive(&gt;3)</td>\n",
       "      <td>{'neg': 0.13, 'neu': 0.753, 'pos': 0.117, 'com...</td>\n",
       "      <td>-0.1027</td>\n",
       "      <td>Negative</td>\n",
       "    </tr>\n",
       "    <tr>\n",
       "      <th>1</th>\n",
       "      <td>2024-05-16</td>\n",
       "      <td>aliexpress legit great place find amaze bargai...</td>\n",
       "      <td>5</td>\n",
       "      <td>Positive(&gt;3)</td>\n",
       "      <td>{'neg': 0.0, 'neu': 0.667, 'pos': 0.333, 'comp...</td>\n",
       "      <td>0.9186</td>\n",
       "      <td>Positive</td>\n",
       "    </tr>\n",
       "    <tr>\n",
       "      <th>2</th>\n",
       "      <td>2024-05-13</td>\n",
       "      <td>aliexpress pretty good deliver small item big ...</td>\n",
       "      <td>3</td>\n",
       "      <td>Neutral(3)</td>\n",
       "      <td>{'neg': 0.0, 'neu': 0.562, 'pos': 0.438, 'comp...</td>\n",
       "      <td>0.8720</td>\n",
       "      <td>Positive</td>\n",
       "    </tr>\n",
       "    <tr>\n",
       "      <th>3</th>\n",
       "      <td>2024-05-18</td>\n",
       "      <td>well educate little get best benefit search fe...</td>\n",
       "      <td>5</td>\n",
       "      <td>Positive(&gt;3)</td>\n",
       "      <td>{'neg': 0.0, 'neu': 0.578, 'pos': 0.422, 'comp...</td>\n",
       "      <td>0.8924</td>\n",
       "      <td>Positive</td>\n",
       "    </tr>\n",
       "    <tr>\n",
       "      <th>4</th>\n",
       "      <td>2024-05-04</td>\n",
       "      <td>found nice deal also ran scam fake item seller...</td>\n",
       "      <td>5</td>\n",
       "      <td>Positive(&gt;3)</td>\n",
       "      <td>{'neg': 0.184, 'neu': 0.64, 'pos': 0.176, 'com...</td>\n",
       "      <td>-0.1280</td>\n",
       "      <td>Negative</td>\n",
       "    </tr>\n",
       "  </tbody>\n",
       "</table>\n",
       "</div>"
      ],
      "text/plain": [
       "  Date of Experience                                            Content  \\\n",
       "0         2024-01-30  shopping aliexpress time ever chose choice del...   \n",
       "1         2024-05-16  aliexpress legit great place find amaze bargai...   \n",
       "2         2024-05-13  aliexpress pretty good deliver small item big ...   \n",
       "3         2024-05-18  well educate little get best benefit search fe...   \n",
       "4         2024-05-04  found nice deal also ran scam fake item seller...   \n",
       "\n",
       "   Rating     Sentiment                                    Polarity_Scores  \\\n",
       "0       4  Positive(>3)  {'neg': 0.13, 'neu': 0.753, 'pos': 0.117, 'com...   \n",
       "1       5  Positive(>3)  {'neg': 0.0, 'neu': 0.667, 'pos': 0.333, 'comp...   \n",
       "2       3    Neutral(3)  {'neg': 0.0, 'neu': 0.562, 'pos': 0.438, 'comp...   \n",
       "3       5  Positive(>3)  {'neg': 0.0, 'neu': 0.578, 'pos': 0.422, 'comp...   \n",
       "4       5  Positive(>3)  {'neg': 0.184, 'neu': 0.64, 'pos': 0.176, 'com...   \n",
       "\n",
       "   Compound SentimentLabel  \n",
       "0   -0.1027       Negative  \n",
       "1    0.9186       Positive  \n",
       "2    0.8720       Positive  \n",
       "3    0.8924       Positive  \n",
       "4   -0.1280       Negative  "
      ]
     },
     "execution_count": 122,
     "metadata": {},
     "output_type": "execute_result"
    }
   ],
   "source": [
    "processed_df.head(5)"
   ]
  },
  {
   "cell_type": "markdown",
   "id": "d8992f86-7ba1-4a58-89f1-a2847e620c3b",
   "metadata": {},
   "source": [
    "## Modelling\n",
    "* Split the data set into vectors and target\n",
    "* Vectorize the data set to convert the text to numerical values\n",
    "* Smoothen the data set to deal with imbalances\n"
   ]
  },
  {
   "cell_type": "code",
   "execution_count": 123,
   "id": "36abc3fa-e38c-4c11-98fa-6afec18bf046",
   "metadata": {},
   "outputs": [],
   "source": [
    "from sklearn.feature_extraction.text import CountVectorizer, TfidfVectorizer\n",
    "from sklearn.model_selection import train_test_split, GridSearchCV\n",
    "from sklearn.metrics import accuracy_score, classification_report, confusion_matrix, roc_auc_score\n",
    "from imblearn.over_sampling import SMOTE"
   ]
  },
  {
   "cell_type": "code",
   "execution_count": 124,
   "id": "207e8981-a913-471e-976f-e94084fb5b18",
   "metadata": {},
   "outputs": [],
   "source": [
    "# Split data into features and target\n",
    "X = processed_df[\"Content\"]\n",
    "y = processed_df[\"SentimentLabel\"]\n"
   ]
  },
  {
   "cell_type": "code",
   "execution_count": 126,
   "id": "0180d9eb-12aa-4fd3-9170-5a6ce7e5ed50",
   "metadata": {},
   "outputs": [],
   "source": [
    "#Split the data into training and test sets\n",
    "X_train, X_test, y_train, y_test = train_test_split(X, y, train_size = 0.8, random_state =42, stratify=y)"
   ]
  },
  {
   "cell_type": "markdown",
   "id": "a84ecaa5-aa37-4219-887b-b67c8ce3282e",
   "metadata": {},
   "source": [
    "#### The dataset is split into training and test sets (80/20) with consistent class distribution, using a fixed random state for reproducibility"
   ]
  },
  {
   "cell_type": "code",
   "execution_count": 127,
   "id": "ca3bb8f6-75ad-4003-96e8-74a53c156ccc",
   "metadata": {},
   "outputs": [],
   "source": [
    "# Vectorize the text data\n",
    "vectorizer = TfidfVectorizer(max_features=10000)\n",
    "X_train_tfidf = vectorizer.fit_transform(X_train)\n",
    "X_test_tfidf = vectorizer.transform(X_test)"
   ]
  },
  {
   "cell_type": "markdown",
   "id": "f2929701-7e63-442b-af38-0f3b11db5ae0",
   "metadata": {},
   "source": [
    "#### Tf-idf vectorizer converts the text into numerical values to enable the models are able to interpret the input."
   ]
  },
  {
   "cell_type": "code",
   "execution_count": 129,
   "id": "9151b5a6-bcb4-438b-936d-21f9161bdd1d",
   "metadata": {},
   "outputs": [],
   "source": [
    "# To deal with the imbalances in the dataset, apply SMOTE to training set\n",
    "smote = SMOTE(random_state=42)\n"
   ]
  },
  {
   "cell_type": "code",
   "execution_count": 130,
   "id": "15de7df2-43c2-47e6-a713-4a465914523d",
   "metadata": {},
   "outputs": [],
   "source": [
    "X_train_resampled, y_train_resampled = smote.fit_resample(X_train_tfidf, y_train)"
   ]
  },
  {
   "cell_type": "markdown",
   "id": "09b623de-45b9-49cd-b21e-5a18660459f2",
   "metadata": {},
   "source": [
    "#### SMOTE is applied to handle class imbalance which is evident in the dataset"
   ]
  },
  {
   "cell_type": "markdown",
   "id": "331c19f8-e4af-48fd-8bfd-c4e149ad4ac3",
   "metadata": {},
   "source": [
    "## Naives-Bayes Modelling"
   ]
  },
  {
   "cell_type": "code",
   "execution_count": 131,
   "id": "41ca6fad-469f-45cb-b948-b9f9e9d4544d",
   "metadata": {},
   "outputs": [],
   "source": [
    "from sklearn.naive_bayes import MultinomialNB\n"
   ]
  },
  {
   "cell_type": "code",
   "execution_count": 132,
   "id": "bdc703fd-999d-472e-bbc2-2808b003a5b9",
   "metadata": {},
   "outputs": [],
   "source": [
    "# Instantiate the Model\n",
    "nb_model = MultinomialNB()"
   ]
  },
  {
   "cell_type": "code",
   "execution_count": 133,
   "id": "e03dbfdc-7cd5-4bb2-88fb-769a77e4eb71",
   "metadata": {},
   "outputs": [
    {
     "data": {
      "text/html": [
       "<style>#sk-container-id-1 {color: black;background-color: white;}#sk-container-id-1 pre{padding: 0;}#sk-container-id-1 div.sk-toggleable {background-color: white;}#sk-container-id-1 label.sk-toggleable__label {cursor: pointer;display: block;width: 100%;margin-bottom: 0;padding: 0.3em;box-sizing: border-box;text-align: center;}#sk-container-id-1 label.sk-toggleable__label-arrow:before {content: \"▸\";float: left;margin-right: 0.25em;color: #696969;}#sk-container-id-1 label.sk-toggleable__label-arrow:hover:before {color: black;}#sk-container-id-1 div.sk-estimator:hover label.sk-toggleable__label-arrow:before {color: black;}#sk-container-id-1 div.sk-toggleable__content {max-height: 0;max-width: 0;overflow: hidden;text-align: left;background-color: #f0f8ff;}#sk-container-id-1 div.sk-toggleable__content pre {margin: 0.2em;color: black;border-radius: 0.25em;background-color: #f0f8ff;}#sk-container-id-1 input.sk-toggleable__control:checked~div.sk-toggleable__content {max-height: 200px;max-width: 100%;overflow: auto;}#sk-container-id-1 input.sk-toggleable__control:checked~label.sk-toggleable__label-arrow:before {content: \"▾\";}#sk-container-id-1 div.sk-estimator input.sk-toggleable__control:checked~label.sk-toggleable__label {background-color: #d4ebff;}#sk-container-id-1 div.sk-label input.sk-toggleable__control:checked~label.sk-toggleable__label {background-color: #d4ebff;}#sk-container-id-1 input.sk-hidden--visually {border: 0;clip: rect(1px 1px 1px 1px);clip: rect(1px, 1px, 1px, 1px);height: 1px;margin: -1px;overflow: hidden;padding: 0;position: absolute;width: 1px;}#sk-container-id-1 div.sk-estimator {font-family: monospace;background-color: #f0f8ff;border: 1px dotted black;border-radius: 0.25em;box-sizing: border-box;margin-bottom: 0.5em;}#sk-container-id-1 div.sk-estimator:hover {background-color: #d4ebff;}#sk-container-id-1 div.sk-parallel-item::after {content: \"\";width: 100%;border-bottom: 1px solid gray;flex-grow: 1;}#sk-container-id-1 div.sk-label:hover label.sk-toggleable__label {background-color: #d4ebff;}#sk-container-id-1 div.sk-serial::before {content: \"\";position: absolute;border-left: 1px solid gray;box-sizing: border-box;top: 0;bottom: 0;left: 50%;z-index: 0;}#sk-container-id-1 div.sk-serial {display: flex;flex-direction: column;align-items: center;background-color: white;padding-right: 0.2em;padding-left: 0.2em;position: relative;}#sk-container-id-1 div.sk-item {position: relative;z-index: 1;}#sk-container-id-1 div.sk-parallel {display: flex;align-items: stretch;justify-content: center;background-color: white;position: relative;}#sk-container-id-1 div.sk-item::before, #sk-container-id-1 div.sk-parallel-item::before {content: \"\";position: absolute;border-left: 1px solid gray;box-sizing: border-box;top: 0;bottom: 0;left: 50%;z-index: -1;}#sk-container-id-1 div.sk-parallel-item {display: flex;flex-direction: column;z-index: 1;position: relative;background-color: white;}#sk-container-id-1 div.sk-parallel-item:first-child::after {align-self: flex-end;width: 50%;}#sk-container-id-1 div.sk-parallel-item:last-child::after {align-self: flex-start;width: 50%;}#sk-container-id-1 div.sk-parallel-item:only-child::after {width: 0;}#sk-container-id-1 div.sk-dashed-wrapped {border: 1px dashed gray;margin: 0 0.4em 0.5em 0.4em;box-sizing: border-box;padding-bottom: 0.4em;background-color: white;}#sk-container-id-1 div.sk-label label {font-family: monospace;font-weight: bold;display: inline-block;line-height: 1.2em;}#sk-container-id-1 div.sk-label-container {text-align: center;}#sk-container-id-1 div.sk-container {/* jupyter's `normalize.less` sets `[hidden] { display: none; }` but bootstrap.min.css set `[hidden] { display: none !important; }` so we also need the `!important` here to be able to override the default hidden behavior on the sphinx rendered scikit-learn.org. See: https://github.com/scikit-learn/scikit-learn/issues/21755 */display: inline-block !important;position: relative;}#sk-container-id-1 div.sk-text-repr-fallback {display: none;}</style><div id=\"sk-container-id-1\" class=\"sk-top-container\"><div class=\"sk-text-repr-fallback\"><pre>MultinomialNB()</pre><b>In a Jupyter environment, please rerun this cell to show the HTML representation or trust the notebook. <br />On GitHub, the HTML representation is unable to render, please try loading this page with nbviewer.org.</b></div><div class=\"sk-container\" hidden><div class=\"sk-item\"><div class=\"sk-estimator sk-toggleable\"><input class=\"sk-toggleable__control sk-hidden--visually\" id=\"sk-estimator-id-1\" type=\"checkbox\" checked><label for=\"sk-estimator-id-1\" class=\"sk-toggleable__label sk-toggleable__label-arrow\">MultinomialNB</label><div class=\"sk-toggleable__content\"><pre>MultinomialNB()</pre></div></div></div></div></div>"
      ],
      "text/plain": [
       "MultinomialNB()"
      ]
     },
     "execution_count": 133,
     "metadata": {},
     "output_type": "execute_result"
    }
   ],
   "source": [
    "#Fit transformer to train the data set\n",
    "nb_model.fit(X_train_resampled, y_train_resampled)"
   ]
  },
  {
   "cell_type": "code",
   "execution_count": 134,
   "id": "cf975af7-888e-481a-9cdf-14efb1e475e9",
   "metadata": {},
   "outputs": [],
   "source": [
    "# Evaluation of the model\n",
    "nb_pred =nb_model.predict(X_test_tfidf)\n"
   ]
  },
  {
   "cell_type": "code",
   "execution_count": 135,
   "id": "f82dd2b7-1142-444c-9450-c98a52687859",
   "metadata": {},
   "outputs": [
    {
     "name": "stdout",
     "output_type": "stream",
     "text": [
      "Accuracy: 0.7966494143285209\n",
      "Classification Report:\n",
      "               precision    recall  f1-score   support\n",
      "\n",
      "    Negative       0.59      0.90      0.71      1672\n",
      "     Neutral       0.44      0.37      0.40       477\n",
      "    Positive       0.95      0.80      0.87      5193\n",
      "\n",
      "    accuracy                           0.80      7342\n",
      "   macro avg       0.66      0.69      0.66      7342\n",
      "weighted avg       0.84      0.80      0.80      7342\n",
      "\n"
     ]
    }
   ],
   "source": [
    "accuracy = accuracy_score(y_test, nb_pred)\n",
    "report = classification_report(y_test, nb_pred)\n",
    "\n",
    "print(\"Accuracy:\", accuracy)\n",
    "print(\"Classification Report:\\n\", report)"
   ]
  },
  {
   "cell_type": "markdown",
   "id": "47b3dbdc-d066-403e-a47f-b5a18fff2ca2",
   "metadata": {},
   "source": [
    "#### The weighted F1-score is 80% which is relatively low, with a low accuracy score of 79%"
   ]
  },
  {
   "cell_type": "code",
   "execution_count": 150,
   "id": "193f012a-36c2-407b-bed6-90922058f803",
   "metadata": {},
   "outputs": [
    {
     "name": "stdout",
     "output_type": "stream",
     "text": [
      "Content: order aliexpress couple year everything solid order protection request several time really work guess total amount order small parcel lose somewhere order protection charge back full cost thing run fair figure lot different sale real discount couple time like every season coupon coin u use everything place order mobile app full version site experience think aliexpress move right direction overall believe trustworthy company deal \n",
      " Prediction: ['Positive']\n"
     ]
    }
   ],
   "source": [
    "# Randomlly selecting comments from the data and asking them to the model\n",
    "random_comment = pd.Series(processed_df[\"Content\"].sample(1).values)\n",
    "new_comment = vectorizer.fit(X_train).transform(random_comment)\n",
    "pred = nb_model.predict(new_comment)\n",
    "print(f\"Content: {random_comment[0]} \\n Prediction: {pred}\")"
   ]
  },
  {
   "cell_type": "markdown",
   "id": "94f23d91-7737-4153-81a8-fad4dc0d6a51",
   "metadata": {},
   "source": [
    "#### Output of a randomly selected comment fitted into the model to test its effectivness. "
   ]
  },
  {
   "cell_type": "markdown",
   "id": "391996c8-173f-4421-ae2b-fd52fae20d03",
   "metadata": {},
   "source": [
    "## Logistic Regression Model"
   ]
  },
  {
   "cell_type": "code",
   "execution_count": 136,
   "id": "087f69d2-5dba-4ee6-a7b7-4dab93d60b63",
   "metadata": {},
   "outputs": [],
   "source": [
    "from sklearn.linear_model import LogisticRegression"
   ]
  },
  {
   "cell_type": "code",
   "execution_count": 137,
   "id": "67776c8d-231b-4057-8771-369a4c07cc5c",
   "metadata": {},
   "outputs": [],
   "source": [
    "# Instantiate Model\n",
    "logreg = LogisticRegression(max_iter=1000)"
   ]
  },
  {
   "cell_type": "code",
   "execution_count": 138,
   "id": "869c9780-6c87-4b52-9754-d075c786c284",
   "metadata": {},
   "outputs": [
    {
     "data": {
      "text/html": [
       "<style>#sk-container-id-2 {color: black;background-color: white;}#sk-container-id-2 pre{padding: 0;}#sk-container-id-2 div.sk-toggleable {background-color: white;}#sk-container-id-2 label.sk-toggleable__label {cursor: pointer;display: block;width: 100%;margin-bottom: 0;padding: 0.3em;box-sizing: border-box;text-align: center;}#sk-container-id-2 label.sk-toggleable__label-arrow:before {content: \"▸\";float: left;margin-right: 0.25em;color: #696969;}#sk-container-id-2 label.sk-toggleable__label-arrow:hover:before {color: black;}#sk-container-id-2 div.sk-estimator:hover label.sk-toggleable__label-arrow:before {color: black;}#sk-container-id-2 div.sk-toggleable__content {max-height: 0;max-width: 0;overflow: hidden;text-align: left;background-color: #f0f8ff;}#sk-container-id-2 div.sk-toggleable__content pre {margin: 0.2em;color: black;border-radius: 0.25em;background-color: #f0f8ff;}#sk-container-id-2 input.sk-toggleable__control:checked~div.sk-toggleable__content {max-height: 200px;max-width: 100%;overflow: auto;}#sk-container-id-2 input.sk-toggleable__control:checked~label.sk-toggleable__label-arrow:before {content: \"▾\";}#sk-container-id-2 div.sk-estimator input.sk-toggleable__control:checked~label.sk-toggleable__label {background-color: #d4ebff;}#sk-container-id-2 div.sk-label input.sk-toggleable__control:checked~label.sk-toggleable__label {background-color: #d4ebff;}#sk-container-id-2 input.sk-hidden--visually {border: 0;clip: rect(1px 1px 1px 1px);clip: rect(1px, 1px, 1px, 1px);height: 1px;margin: -1px;overflow: hidden;padding: 0;position: absolute;width: 1px;}#sk-container-id-2 div.sk-estimator {font-family: monospace;background-color: #f0f8ff;border: 1px dotted black;border-radius: 0.25em;box-sizing: border-box;margin-bottom: 0.5em;}#sk-container-id-2 div.sk-estimator:hover {background-color: #d4ebff;}#sk-container-id-2 div.sk-parallel-item::after {content: \"\";width: 100%;border-bottom: 1px solid gray;flex-grow: 1;}#sk-container-id-2 div.sk-label:hover label.sk-toggleable__label {background-color: #d4ebff;}#sk-container-id-2 div.sk-serial::before {content: \"\";position: absolute;border-left: 1px solid gray;box-sizing: border-box;top: 0;bottom: 0;left: 50%;z-index: 0;}#sk-container-id-2 div.sk-serial {display: flex;flex-direction: column;align-items: center;background-color: white;padding-right: 0.2em;padding-left: 0.2em;position: relative;}#sk-container-id-2 div.sk-item {position: relative;z-index: 1;}#sk-container-id-2 div.sk-parallel {display: flex;align-items: stretch;justify-content: center;background-color: white;position: relative;}#sk-container-id-2 div.sk-item::before, #sk-container-id-2 div.sk-parallel-item::before {content: \"\";position: absolute;border-left: 1px solid gray;box-sizing: border-box;top: 0;bottom: 0;left: 50%;z-index: -1;}#sk-container-id-2 div.sk-parallel-item {display: flex;flex-direction: column;z-index: 1;position: relative;background-color: white;}#sk-container-id-2 div.sk-parallel-item:first-child::after {align-self: flex-end;width: 50%;}#sk-container-id-2 div.sk-parallel-item:last-child::after {align-self: flex-start;width: 50%;}#sk-container-id-2 div.sk-parallel-item:only-child::after {width: 0;}#sk-container-id-2 div.sk-dashed-wrapped {border: 1px dashed gray;margin: 0 0.4em 0.5em 0.4em;box-sizing: border-box;padding-bottom: 0.4em;background-color: white;}#sk-container-id-2 div.sk-label label {font-family: monospace;font-weight: bold;display: inline-block;line-height: 1.2em;}#sk-container-id-2 div.sk-label-container {text-align: center;}#sk-container-id-2 div.sk-container {/* jupyter's `normalize.less` sets `[hidden] { display: none; }` but bootstrap.min.css set `[hidden] { display: none !important; }` so we also need the `!important` here to be able to override the default hidden behavior on the sphinx rendered scikit-learn.org. See: https://github.com/scikit-learn/scikit-learn/issues/21755 */display: inline-block !important;position: relative;}#sk-container-id-2 div.sk-text-repr-fallback {display: none;}</style><div id=\"sk-container-id-2\" class=\"sk-top-container\"><div class=\"sk-text-repr-fallback\"><pre>LogisticRegression(max_iter=1000)</pre><b>In a Jupyter environment, please rerun this cell to show the HTML representation or trust the notebook. <br />On GitHub, the HTML representation is unable to render, please try loading this page with nbviewer.org.</b></div><div class=\"sk-container\" hidden><div class=\"sk-item\"><div class=\"sk-estimator sk-toggleable\"><input class=\"sk-toggleable__control sk-hidden--visually\" id=\"sk-estimator-id-2\" type=\"checkbox\" checked><label for=\"sk-estimator-id-2\" class=\"sk-toggleable__label sk-toggleable__label-arrow\">LogisticRegression</label><div class=\"sk-toggleable__content\"><pre>LogisticRegression(max_iter=1000)</pre></div></div></div></div></div>"
      ],
      "text/plain": [
       "LogisticRegression(max_iter=1000)"
      ]
     },
     "execution_count": 138,
     "metadata": {},
     "output_type": "execute_result"
    }
   ],
   "source": [
    "# fit transformer to train the data\n",
    "logreg.fit(X_train_resampled, y_train_resampled)"
   ]
  },
  {
   "cell_type": "code",
   "execution_count": 139,
   "id": "f9dbb5f4-ffa7-488b-a19d-177f531a4fb9",
   "metadata": {},
   "outputs": [],
   "source": [
    "# Evaluate the model\n",
    "ly_pred = logreg.predict(X_test_tfidf)"
   ]
  },
  {
   "cell_type": "code",
   "execution_count": 140,
   "id": "b2bfdfce-93be-4b7d-ba63-c50b3b6685a1",
   "metadata": {},
   "outputs": [
    {
     "name": "stdout",
     "output_type": "stream",
     "text": [
      "Accuracy: 0.8795968400980659\n",
      "Classification Report:\n",
      "               precision    recall  f1-score   support\n",
      "\n",
      "    Negative       0.78      0.87      0.82      1672\n",
      "     Neutral       0.54      0.79      0.64       477\n",
      "    Positive       0.97      0.89      0.93      5193\n",
      "\n",
      "    accuracy                           0.88      7342\n",
      "   macro avg       0.76      0.85      0.80      7342\n",
      "weighted avg       0.90      0.88      0.89      7342\n",
      "\n"
     ]
    }
   ],
   "source": [
    "accuracy = accuracy_score(y_test, ly_pred)\n",
    "report = classification_report(y_test, ly_pred)\n",
    "\n",
    "print(\"Accuracy:\", accuracy)\n",
    "print(\"Classification Report:\\n\", report)"
   ]
  },
  {
   "cell_type": "markdown",
   "id": "b87b7730-9733-4dd8-870a-edcedc6fdc1d",
   "metadata": {},
   "source": [
    "#### The logistic regression model performed better than than the Naive-Bayes model with a high accuracy scor eof 87% and weighted average F1-score of 89%"
   ]
  },
  {
   "cell_type": "code",
   "execution_count": 151,
   "id": "c12b9e3e-d58a-42b9-94c5-47729bee23f4",
   "metadata": {},
   "outputs": [
    {
     "name": "stdout",
     "output_type": "stream",
     "text": [
      "Content: highly recommend order arrive quickly get exactly order definitely make order \n",
      " Prediction: ['Positive']\n"
     ]
    }
   ],
   "source": [
    "# Randomlly selecting comments from the data and asking them to the model\n",
    "random_comment = pd.Series(processed_df[\"Content\"].sample(1).values)\n",
    "new_comment = vectorizer.fit(X_train).transform(random_comment)\n",
    "pred = logreg.predict(new_comment)\n",
    "print(f\"Content: {random_comment[0]} \\n Prediction: {pred}\")"
   ]
  },
  {
   "cell_type": "markdown",
   "id": "5da721e1-a5c6-4d1c-9e20-013ff86f9d0f",
   "metadata": {},
   "source": [
    "#### Output of a randomly selected comment fitted into the model to test its effectivness"
   ]
  },
  {
   "cell_type": "markdown",
   "id": "880fab65-aeaf-41ea-96a0-f832eac1e24c",
   "metadata": {},
   "source": [
    "## Support Vector Classifier Model"
   ]
  },
  {
   "cell_type": "code",
   "execution_count": 142,
   "id": "207ed52b-2ae3-40d4-8fae-2ca098e6a950",
   "metadata": {},
   "outputs": [],
   "source": [
    "from sklearn.svm import SVC"
   ]
  },
  {
   "cell_type": "code",
   "execution_count": 144,
   "id": "429bce6e-7168-4935-b624-c605edc61faf",
   "metadata": {},
   "outputs": [],
   "source": [
    "svc_model = SVC(kernel = 'linear')"
   ]
  },
  {
   "cell_type": "code",
   "execution_count": 145,
   "id": "eccf46d1-b3ae-4f28-8df9-a4c4a3dd3c86",
   "metadata": {},
   "outputs": [
    {
     "data": {
      "text/html": [
       "<style>#sk-container-id-3 {color: black;background-color: white;}#sk-container-id-3 pre{padding: 0;}#sk-container-id-3 div.sk-toggleable {background-color: white;}#sk-container-id-3 label.sk-toggleable__label {cursor: pointer;display: block;width: 100%;margin-bottom: 0;padding: 0.3em;box-sizing: border-box;text-align: center;}#sk-container-id-3 label.sk-toggleable__label-arrow:before {content: \"▸\";float: left;margin-right: 0.25em;color: #696969;}#sk-container-id-3 label.sk-toggleable__label-arrow:hover:before {color: black;}#sk-container-id-3 div.sk-estimator:hover label.sk-toggleable__label-arrow:before {color: black;}#sk-container-id-3 div.sk-toggleable__content {max-height: 0;max-width: 0;overflow: hidden;text-align: left;background-color: #f0f8ff;}#sk-container-id-3 div.sk-toggleable__content pre {margin: 0.2em;color: black;border-radius: 0.25em;background-color: #f0f8ff;}#sk-container-id-3 input.sk-toggleable__control:checked~div.sk-toggleable__content {max-height: 200px;max-width: 100%;overflow: auto;}#sk-container-id-3 input.sk-toggleable__control:checked~label.sk-toggleable__label-arrow:before {content: \"▾\";}#sk-container-id-3 div.sk-estimator input.sk-toggleable__control:checked~label.sk-toggleable__label {background-color: #d4ebff;}#sk-container-id-3 div.sk-label input.sk-toggleable__control:checked~label.sk-toggleable__label {background-color: #d4ebff;}#sk-container-id-3 input.sk-hidden--visually {border: 0;clip: rect(1px 1px 1px 1px);clip: rect(1px, 1px, 1px, 1px);height: 1px;margin: -1px;overflow: hidden;padding: 0;position: absolute;width: 1px;}#sk-container-id-3 div.sk-estimator {font-family: monospace;background-color: #f0f8ff;border: 1px dotted black;border-radius: 0.25em;box-sizing: border-box;margin-bottom: 0.5em;}#sk-container-id-3 div.sk-estimator:hover {background-color: #d4ebff;}#sk-container-id-3 div.sk-parallel-item::after {content: \"\";width: 100%;border-bottom: 1px solid gray;flex-grow: 1;}#sk-container-id-3 div.sk-label:hover label.sk-toggleable__label {background-color: #d4ebff;}#sk-container-id-3 div.sk-serial::before {content: \"\";position: absolute;border-left: 1px solid gray;box-sizing: border-box;top: 0;bottom: 0;left: 50%;z-index: 0;}#sk-container-id-3 div.sk-serial {display: flex;flex-direction: column;align-items: center;background-color: white;padding-right: 0.2em;padding-left: 0.2em;position: relative;}#sk-container-id-3 div.sk-item {position: relative;z-index: 1;}#sk-container-id-3 div.sk-parallel {display: flex;align-items: stretch;justify-content: center;background-color: white;position: relative;}#sk-container-id-3 div.sk-item::before, #sk-container-id-3 div.sk-parallel-item::before {content: \"\";position: absolute;border-left: 1px solid gray;box-sizing: border-box;top: 0;bottom: 0;left: 50%;z-index: -1;}#sk-container-id-3 div.sk-parallel-item {display: flex;flex-direction: column;z-index: 1;position: relative;background-color: white;}#sk-container-id-3 div.sk-parallel-item:first-child::after {align-self: flex-end;width: 50%;}#sk-container-id-3 div.sk-parallel-item:last-child::after {align-self: flex-start;width: 50%;}#sk-container-id-3 div.sk-parallel-item:only-child::after {width: 0;}#sk-container-id-3 div.sk-dashed-wrapped {border: 1px dashed gray;margin: 0 0.4em 0.5em 0.4em;box-sizing: border-box;padding-bottom: 0.4em;background-color: white;}#sk-container-id-3 div.sk-label label {font-family: monospace;font-weight: bold;display: inline-block;line-height: 1.2em;}#sk-container-id-3 div.sk-label-container {text-align: center;}#sk-container-id-3 div.sk-container {/* jupyter's `normalize.less` sets `[hidden] { display: none; }` but bootstrap.min.css set `[hidden] { display: none !important; }` so we also need the `!important` here to be able to override the default hidden behavior on the sphinx rendered scikit-learn.org. See: https://github.com/scikit-learn/scikit-learn/issues/21755 */display: inline-block !important;position: relative;}#sk-container-id-3 div.sk-text-repr-fallback {display: none;}</style><div id=\"sk-container-id-3\" class=\"sk-top-container\"><div class=\"sk-text-repr-fallback\"><pre>SVC(kernel=&#x27;linear&#x27;)</pre><b>In a Jupyter environment, please rerun this cell to show the HTML representation or trust the notebook. <br />On GitHub, the HTML representation is unable to render, please try loading this page with nbviewer.org.</b></div><div class=\"sk-container\" hidden><div class=\"sk-item\"><div class=\"sk-estimator sk-toggleable\"><input class=\"sk-toggleable__control sk-hidden--visually\" id=\"sk-estimator-id-3\" type=\"checkbox\" checked><label for=\"sk-estimator-id-3\" class=\"sk-toggleable__label sk-toggleable__label-arrow\">SVC</label><div class=\"sk-toggleable__content\"><pre>SVC(kernel=&#x27;linear&#x27;)</pre></div></div></div></div></div>"
      ],
      "text/plain": [
       "SVC(kernel='linear')"
      ]
     },
     "execution_count": 145,
     "metadata": {},
     "output_type": "execute_result"
    }
   ],
   "source": [
    "# Fit the transformer to train the data\n",
    "svc_model.fit(X_train_resampled,y_train_resampled)"
   ]
  },
  {
   "cell_type": "code",
   "execution_count": 146,
   "id": "106f4209-e790-4f3a-a1f4-a032f12e168a",
   "metadata": {},
   "outputs": [],
   "source": [
    "# Evaluate the model\n",
    "svc_pred = svc_model.predict(X_test_tfidf)"
   ]
  },
  {
   "cell_type": "code",
   "execution_count": 147,
   "id": "38d611a3-f848-4071-8b03-ace49758ab62",
   "metadata": {},
   "outputs": [
    {
     "name": "stdout",
     "output_type": "stream",
     "text": [
      "Accuracy: 0.8923998910378643\n",
      "Classification Report:\n",
      "               precision    recall  f1-score   support\n",
      "\n",
      "    Negative       0.78      0.88      0.83      1672\n",
      "     Neutral       0.62      0.77      0.69       477\n",
      "    Positive       0.97      0.91      0.94      5193\n",
      "\n",
      "    accuracy                           0.89      7342\n",
      "   macro avg       0.79      0.85      0.82      7342\n",
      "weighted avg       0.90      0.89      0.90      7342\n",
      "\n"
     ]
    }
   ],
   "source": [
    "accuracy = accuracy_score(y_test, svc_pred)\n",
    "report = classification_report(y_test, svc_pred)\n",
    "\n",
    "print(\"Accuracy:\", accuracy)\n",
    "print(\"Classification Report:\\n\", report)"
   ]
  },
  {
   "cell_type": "markdown",
   "id": "a4de2ae6-4f2c-4617-aac4-52e49e899b49",
   "metadata": {},
   "source": [
    "#### Having the highest accuracy score 89% and weighted average f1-Score of 90%, SVC outperformed the other models tested against the test data."
   ]
  },
  {
   "cell_type": "code",
   "execution_count": 152,
   "id": "445d1643-f587-4d7e-9f9e-cb7db97321a1",
   "metadata": {},
   "outputs": [
    {
     "name": "stdout",
     "output_type": "stream",
     "text": [
      "Content: product good quality \n",
      " Prediction: ['Positive']\n"
     ]
    }
   ],
   "source": [
    "# Randomlly selecting comments from the data and asking them to the model\n",
    "random_comment = pd.Series(processed_df[\"Content\"].sample(1).values)\n",
    "new_comment = vectorizer.fit(X_train).transform(random_comment)\n",
    "pred = svc_model.predict(new_comment)\n",
    "print(f\"Content: {random_comment[0]} \\n Prediction: {pred}\")"
   ]
  },
  {
   "cell_type": "markdown",
   "id": "cbcdd2e3-3114-43f1-98e8-5a80861767d2",
   "metadata": {},
   "source": [
    "#### Output of a randomly selected comment fitted into the model to test its effectivness"
   ]
  },
  {
   "cell_type": "markdown",
   "id": "9a81e588-959b-4aa4-b9d6-4c697b8737a1",
   "metadata": {},
   "source": [
    "## Conclusion \n",
    "* Support Vector Classifier (SVC) appears to be the best-performing model based on accuracy and weighted F1-scores across all sentiment classes. Its ability to effectively classify sentiment across all classes contributes to its superior performance.\n",
    "* Logistic Regression also performs well, particularly in classifying the positive sentiment, but it lags slightly behind SVC in overall accuracy and F1-scores.\n",
    "* Naive Bayes shows relatively weaker performance compared to the other models, particularly in accurately classifying the neutral sentiment.\n",
    "### Therefore, Support Vector Classifier (SVC) can be considered the best-performing model among the three for sentiment analysis based on the provided metrics.\n"
   ]
  },
  {
   "cell_type": "markdown",
   "id": "8813d8b3-4322-4a6e-a8af-ae078c21df29",
   "metadata": {},
   "source": [
    "## Saving Models and Test Data set"
   ]
  },
  {
   "cell_type": "code",
   "execution_count": 154,
   "id": "f66c41f1-383a-42f6-9273-be905e16c13a",
   "metadata": {},
   "outputs": [
    {
     "name": "stdout",
     "output_type": "stream",
     "text": [
      "Test data saved as 'test_data_vectorised.csv'\n"
     ]
    }
   ],
   "source": [
    "# To save test data as csv file for future analysis\n",
    "test_data = pd.DataFrame(X_test_tfidf.toarray(), columns=vectorizer.get_feature_names_out())\n",
    "test_data[\"SentimentLabel\"] = y_test.values\n",
    "test_data.to_csv(\"test_data_vectorised.csv\", index=False)\n",
    "print(\"Test data saved as 'test_data_vectorised.csv'\")"
   ]
  },
  {
   "cell_type": "code",
   "execution_count": 155,
   "id": "4dfe1c48-56ca-4ba3-8a4a-c5ee787e3aae",
   "metadata": {},
   "outputs": [
    {
     "name": "stdout",
     "output_type": "stream",
     "text": [
      "Requirement already satisfied: joblib in c:\\users\\adachukwu\\anaconda3\\lib\\site-packages (1.2.0)\n"
     ]
    }
   ],
   "source": [
    "# Install joblib to save preferred model as pikle file \n",
    "!pip install joblib"
   ]
  },
  {
   "cell_type": "code",
   "execution_count": 156,
   "id": "e615ee22-ce19-458d-a5e9-bdd02b60d030",
   "metadata": {},
   "outputs": [],
   "source": [
    "import joblib"
   ]
  },
  {
   "cell_type": "code",
   "execution_count": 157,
   "id": "92ca6918-2909-4eeb-bb98-948e8abf7290",
   "metadata": {},
   "outputs": [
    {
     "data": {
      "text/plain": [
       "['./SVC.pkl']"
      ]
     },
     "execution_count": 157,
     "metadata": {},
     "output_type": "execute_result"
    }
   ],
   "source": [
    "# Saving preferred model for our pipeline creation\n",
    "filename = './SVC.pkl'\n",
    "joblib.dump(svc_model, filename)"
   ]
  },
  {
   "cell_type": "code",
   "execution_count": 158,
   "id": "cf17842c-4af4-47fc-99bc-84af7b6487c9",
   "metadata": {},
   "outputs": [
    {
     "name": "stdout",
     "output_type": "stream",
     "text": [
      "Vectorizer saved as vectorizer.joblib\n"
     ]
    }
   ],
   "source": [
    "# Saving the vectorizer as a pickle file for pipeline creation\n",
    "vectorizer_file_path = 'vectorizer.joblib'\n",
    "joblib.dump(vectorizer, vectorizer_file_path)\n",
    "print(f'Vectorizer saved as {vectorizer_file_path}')"
   ]
  },
  {
   "cell_type": "markdown",
   "id": "14212653-0830-4e94-a285-14e5af48375b",
   "metadata": {},
   "source": [
    "### The model of choice and vectorizer are saved as pickle files for deployment"
   ]
  }
 ],
 "metadata": {
  "kernelspec": {
   "display_name": "Python 3 (ipykernel)",
   "language": "python",
   "name": "python3"
  },
  "language_info": {
   "codemirror_mode": {
    "name": "ipython",
    "version": 3
   },
   "file_extension": ".py",
   "mimetype": "text/x-python",
   "name": "python",
   "nbconvert_exporter": "python",
   "pygments_lexer": "ipython3",
   "version": "3.11.7"
  }
 },
 "nbformat": 4,
 "nbformat_minor": 5
}
